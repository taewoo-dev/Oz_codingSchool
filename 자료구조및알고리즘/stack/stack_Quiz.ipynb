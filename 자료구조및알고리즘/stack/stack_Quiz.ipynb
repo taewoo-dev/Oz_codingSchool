{
 "cells": [
  {
   "cell_type": "code",
   "execution_count": 2,
   "metadata": {},
   "outputs": [
    {
     "name": "stdout",
     "output_type": "stream",
     "text": [
      "HELLO\n",
      "O\n",
      "O\n",
      "['H', 'E', 'L', 'L']\n",
      "L\n"
     ]
    }
   ],
   "source": [
    "from stack import Stack\n",
    "\n",
    "arraystack = Stack()"
   ]
  },
  {
   "cell_type": "code",
   "execution_count": 2,
   "metadata": {},
   "outputs": [
    {
     "name": "stdout",
     "output_type": "stream",
     "text": [
      "HELLO\n",
      "O\n",
      "O\n",
      "['H', 'E', 'L', 'L']\n",
      "L\n"
     ]
    }
   ],
   "source": [
    "# stack 매서드 활용해보기\n",
    "for i in \"HELLO\":\n",
    "    arraystack.push(i)\n",
    "\n",
    "print(\"\".join(arraystack._items))\n",
    "print(arraystack.top())\n",
    "print(arraystack.pop())\n",
    "print(arraystack._items)\n",
    "print(arraystack.top())"
   ]
  },
  {
   "cell_type": "code",
   "execution_count": 3,
   "metadata": {},
   "outputs": [
    {
     "data": {
      "text/plain": [
       "True"
      ]
     },
     "execution_count": 3,
     "metadata": {},
     "output_type": "execute_result"
    }
   ],
   "source": [
    "# 예제 1번 괄호 맞추기\n",
    "def checkBrackets(str_):\n",
    "    arraystack = Stack()\n",
    "    for ch in str_:\n",
    "        if ch in \"([{\":\n",
    "            arraystack.push(ch)\n",
    "        elif ch in \")]}\":\n",
    "            if len(arraystack) == 0:\n",
    "                return False\n",
    "            else:\n",
    "                left = arraystack.pop()\n",
    "                if (ch == \")\" and left != \"(\") or (ch == \"]\" and left != \"[\") or (ch == \"}\" and left != \"{\"):\n",
    "                    return False\n",
    "    return not bool(len(arraystack))\n",
    "checkBrackets(\"(123{123}[123])\")\n",
    "checkBrackets(\")()\")\n",
    "checkBrackets(\"()}]\")\n",
    "checkBrackets(\"1234(123{213})\")"
   ]
  },
  {
   "cell_type": "code",
   "execution_count": 6,
   "metadata": {},
   "outputs": [
    {
     "ename": "SyntaxError",
     "evalue": "closing parenthesis ')' does not match opening parenthesis '[' (391277462.py, line 39)",
     "output_type": "error",
     "traceback": [
      "\u001b[0;36m  Cell \u001b[0;32mIn[6], line 39\u001b[0;36m\u001b[0m\n\u001b[0;31m    OPERATROS = [\"(\",)\"]\u001b[0m\n\u001b[0m                     ^\u001b[0m\n\u001b[0;31mSyntaxError\u001b[0m\u001b[0;31m:\u001b[0m closing parenthesis ')' does not match opening parenthesis '['\n"
     ]
    }
   ],
   "source": [
    "# 예제 2 계산기 만들기 \n",
    "\"\"\"\n",
    "infix -> post fix -> 계산\n",
    "input : 계산 수식\n",
    "ouput : 결과\n",
    "\n",
    "1. 괄호 치기\n",
    "2. 연산자의 오른쪽 괄호 다음으로 연산자 이동\n",
    "3. 괄호 지우기\n",
    "\"\"\"\n",
    "\n",
    "# (1). infix -> postfix 변환 알고리즘\n",
    "\"\"\"\n",
    "opstack, outstack 두개의 자료 구조를 이용하여 변환\n",
    "1. operand는 순서 그대로 outstack에 append\n",
    "2. operator는 스택에 보관하며 변환\n",
    "    2-1). '('을 만나면 바로 스택에 담기. ')'를 만나면 '('를 만날 때 까지 pop \n",
    "    2-2). operator스택은 우선순위가 낮은 연산자가 존재할 시 우선 순위가 높은 연산자가 push -> 우선순위 판단 함수 만들기\n",
    "    2-3). 우선순위가 낮은 연산자가 스택에 push를 하기 위해서는 우선 순위가 높은 연산자를 pop하고 push \n",
    "\"\"\"\n",
    "\n",
    "opstack = Stack()\n",
    "outstack = list()\n",
    "\n",
    "modify = \"1+2+3*4\" \n",
    "\n",
    "# 1.1 우선순위 함수만들기\n",
    "def getPriority(expression: str) -> int:\n",
    "    if modify in \"(\":\n",
    "        return 1\n",
    "    elif modify in \"*/\":\n",
    "        return 2\n",
    "    elif modify in \"+-\":\n",
    "        return 3\n",
    "    \n",
    "# 1.2 피연산자 인식 함수\n",
    "\n",
    "OPERANDS = ['0','1','2','3','4','5','6','7','8','9']\n",
    "OPERATROS = [\"(\",\")\",\"*\",\"/\",\"+\",\"-\"]\n",
    "\n",
    "\n",
    "def infix_to_postfix(expression: str):\n",
    "    infix = list(expression)\n",
    "    \n",
    "    for char in infix:\n",
    "        if char in OPERANDS:\n",
    "            outstack.append(char)\n",
    "        elif char in OPERATROS:\n",
    "            if char == \"(\":\n",
    "                opstack.push(char)\n",
    "            elif char == \")\":\n",
    "                while True:\n",
    "                    if outstack.top == \"(\":\n",
    "                        opstack.pop()\n",
    "                        break\n",
    "                    outstack.append(opstack.pop())\n",
    "            elif char in \"*-\":\n",
    "                opstack.push(char)\n",
    "            elif char in \"+-\":\n",
    "                # while\n",
    "                #     if getPriority(opstack.top()) < getPriority(char):\n",
    "                    \n",
    "                \n",
    "\n",
    "\n",
    "\n",
    "    \n",
    "\n"
   ]
  },
  {
   "cell_type": "code",
   "execution_count": 2,
   "metadata": {},
   "outputs": [
    {
     "name": "stdout",
     "output_type": "stream",
     "text": [
      "range(-4, -8)\n"
     ]
    }
   ],
   "source": [
    "print(list(range(-4,-8)))\n"
   ]
  },
  {
   "cell_type": "code",
   "execution_count": null,
   "metadata": {},
   "outputs": [],
   "source": []
  }
 ],
 "metadata": {
  "kernelspec": {
   "display_name": "Python 3",
   "language": "python",
   "name": "python3"
  },
  "language_info": {
   "codemirror_mode": {
    "name": "ipython",
    "version": 3
   },
   "file_extension": ".py",
   "mimetype": "text/x-python",
   "name": "python",
   "nbconvert_exporter": "python",
   "pygments_lexer": "ipython3",
   "version": "3.9.10"
  }
 },
 "nbformat": 4,
 "nbformat_minor": 2
}
