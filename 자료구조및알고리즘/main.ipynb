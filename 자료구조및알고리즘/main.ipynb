{
 "cells": [
  {
   "cell_type": "code",
   "execution_count": 1,
   "metadata": {},
   "outputs": [
    {
     "name": "stdout",
     "output_type": "stream",
     "text": [
      "HELLO\n",
      "O\n",
      "O\n",
      "['H', 'E', 'L', 'L']\n",
      "L\n"
     ]
    }
   ],
   "source": [
    "from stack import Stack\n",
    "\n",
    "arraystack = Stack()"
   ]
  },
  {
   "cell_type": "code",
   "execution_count": 2,
   "metadata": {},
   "outputs": [
    {
     "name": "stdout",
     "output_type": "stream",
     "text": [
      "HELLHELLO\n",
      "O\n",
      "O\n",
      "['H', 'E', 'L', 'L', 'H', 'E', 'L', 'L']\n",
      "L\n"
     ]
    }
   ],
   "source": [
    "# stack 매서드 활용해보기\n",
    "for i in \"HELLO\":\n",
    "    arraystack.push(i)\n",
    "\n",
    "print(\"\".join(arraystack._items))\n",
    "print(arraystack.top())\n",
    "print(arraystack.pop())\n",
    "print(arraystack._items)\n",
    "print(arraystack.top())"
   ]
  },
  {
   "cell_type": "code",
   "execution_count": 10,
   "metadata": {},
   "outputs": [
    {
     "data": {
      "text/plain": [
       "True"
      ]
     },
     "execution_count": 10,
     "metadata": {},
     "output_type": "execute_result"
    }
   ],
   "source": [
    "# 예제 1번 괄호 맞추기\n",
    "def checkBrackets(str_):\n",
    "    arraystack = Stack()\n",
    "    for ch in str_:\n",
    "        if ch in \"([{\":\n",
    "            arraystack.push(ch)\n",
    "        elif ch in \")]}\":\n",
    "            if len(arraystack) == 0:\n",
    "                return False\n",
    "            else:\n",
    "                left = arraystack.pop()\n",
    "                if (ch == \")\" and left != \"(\") or (ch == \"]\" and left != \"[\") or (ch == \"}\" and left != \"{\"):\n",
    "                    return False\n",
    "    return not bool(len(arraystack))\n",
    "checkBrackets(\"(123{123}[123])\")\n",
    "checkBrackets(\")()\")\n",
    "checkBrackets(\"()}]\")\n",
    "checkBrackets(\"1234(123{213})\")"
   ]
  }
 ],
 "metadata": {
  "kernelspec": {
   "display_name": "Python 3",
   "language": "python",
   "name": "python3"
  },
  "language_info": {
   "codemirror_mode": {
    "name": "ipython",
    "version": 3
   },
   "file_extension": ".py",
   "mimetype": "text/x-python",
   "name": "python",
   "nbconvert_exporter": "python",
   "pygments_lexer": "ipython3",
   "version": "3.9.10"
  }
 },
 "nbformat": 4,
 "nbformat_minor": 2
}
