{
 "cells": [
  {
   "cell_type": "markdown",
   "metadata": {},
   "source": [
    "## 1. linked_list"
   ]
  },
  {
   "cell_type": "code",
   "execution_count": 1,
   "metadata": {},
   "outputs": [],
   "source": [
    "class Node:\n",
    "    def __init__(self, value=0, next=None) -> None:\n",
    "        self.value = value\n",
    "        self.next = next"
   ]
  },
  {
   "cell_type": "code",
   "execution_count": 2,
   "metadata": {},
   "outputs": [],
   "source": [
    "first = Node(1)\n",
    "second = Node(2)\n",
    "third = Node(3)\n",
    "\n",
    "first.next = second\n",
    "first.value = 6\n"
   ]
  },
  {
   "cell_type": "code",
   "execution_count": 62,
   "metadata": {},
   "outputs": [],
   "source": [
    "class LinkedList(object):\n",
    "    def __init__(self) -> None:\n",
    "        self.head = None\n",
    "    \n",
    "    def append(self, value):\n",
    "        # 시간복잡도 O(n)\n",
    "        new_node = Node(value)\n",
    "        if self.head is None:\n",
    "            self.head = new_node\n",
    "        else:\n",
    "            current = self.head\n",
    "            while(current.next):\n",
    "                current = current.next\n",
    "            current.next = new_node\n",
    "\n",
    "    def get(self, idx):\n",
    "        # 1. 원하는 인덱스로 이동 : linkedlist에서 기본적으로 head의 위치만 알 수 있다\n",
    "        # 2. value 가져오기\u001e\n",
    "        # 3. 시간복잡도 O(n)\n",
    "        current = self.head\n",
    "        for _ in range(idx):\n",
    "            current = current.next\n",
    "        return current.value\n",
    "    \n",
    "    def insert_at(self, idx, value):\n",
    "        current = self.head\n",
    "        for _ in range(idx-1):\n",
    "            current = current.next\n",
    "        new_node = Node(value)\n",
    "        new_node.next = current.next\n",
    "        current.next = new_node\n",
    "    \n",
    "    def remove(self, idx):\n",
    "        current = self.head\n",
    "        for _ in range(idx-2):\n",
    "            current = current.next\n",
    "        current.next = current.next.next\n",
    "\n"
   ]
  },
  {
   "cell_type": "code",
   "execution_count": 75,
   "metadata": {},
   "outputs": [],
   "source": [
    "a = LinkedList()\n",
    "a.append(0)\n",
    "a.append(1)\n",
    "a.append(2)\n",
    "a.append(3)\n",
    "# a.insert_at(idx=1, value=4)"
   ]
  },
  {
   "cell_type": "code",
   "execution_count": 76,
   "metadata": {},
   "outputs": [
    {
     "name": "stdout",
     "output_type": "stream",
     "text": [
      "0\n",
      "1\n",
      "2\n",
      "3\n",
      "0\n",
      "3\n"
     ]
    }
   ],
   "source": [
    "print(a.get(0))\n",
    "print(a.get(1))\n",
    "print(a.get(2))\n",
    "print(a.get(3))\n",
    "a.remove(1)\n",
    "a.remove(2)\n",
    "print(a.get(0))\n",
    "print(a.get(1))\n",
    "\n"
   ]
  },
  {
   "cell_type": "code",
   "execution_count": 61,
   "metadata": {},
   "outputs": [],
   "source": [
    "class LinkedListV2(object):\n",
    "    def __init__(self) -> None:\n",
    "        self.head = None\n",
    "        self.tail = None\n",
    "    \n",
    "    def append(self, value):\n",
    "        # 시간복잡도 O(n)\n",
    "        new_node = Node(value)\n",
    "        if self.head is None:\n",
    "            self.head = new_node\n",
    "            self.tail = new_node\n",
    "        else:\n",
    "            # self.tail.next = new_node\n",
    "            # self.tail = self.tail.next\n",
    "            self.tail = new_node\n",
    "\n",
    "    def get(self, idx):\n",
    "        # 1. 원하는 인덱스로 이동 : linkedlist에서 기본적으로 head의 위치만 알 수 있다\n",
    "        # 2. value 가져오기\u001e\n",
    "        # 3. 시간복잡도 O(n)\n",
    "        current = self.head\n",
    "        for _ in range(idx):\n",
    "            current = current.next\n",
    "        return current.value\n",
    "    \n",
    "    def insert_at(self, idx, value):\n",
    "        current = self.head\n",
    "        for _ in range(idx-1):\n",
    "            current = current.next\n",
    "        new_node = Node(value)\n",
    "        new_node.next = current.next\n",
    "        current.next = new_node\n",
    "    \n",
    "    def remove(self, idx):\n",
    "        current = self.head\n",
    "        for _ in range(idx-2):\n",
    "            current = current.next\n",
    "        current.next = current.next.next\n",
    "\n"
   ]
  }
 ],
 "metadata": {
  "kernelspec": {
   "display_name": "Python 3",
   "language": "python",
   "name": "python3"
  },
  "language_info": {
   "codemirror_mode": {
    "name": "ipython",
    "version": 3
   },
   "file_extension": ".py",
   "mimetype": "text/x-python",
   "name": "python",
   "nbconvert_exporter": "python",
   "pygments_lexer": "ipython3",
   "version": "3.9.10"
  }
 },
 "nbformat": 4,
 "nbformat_minor": 2
}
