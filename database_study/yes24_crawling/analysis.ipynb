{
 "cells": [
  {
   "cell_type": "code",
   "execution_count": 1,
   "id": "initial_id",
   "metadata": {
    "ExecuteTime": {
     "end_time": "2024-07-20T12:14:15.931534Z",
     "start_time": "2024-07-20T12:14:15.902146Z"
    },
    "collapsed": true
   },
   "outputs": [],
   "source": [
    "from database.yes24_db import excute_query\n",
    "import pymysql.cursors\n",
    "\n",
    "conn = pymysql.connect(\n",
    "    host=\"localhost\",\n",
    "    user=\"root\",\n",
    "    password=\"--------\",\n",
    "    database=\"yes24\",\n",
    "    charset=\"utf8mb4\",\n",
    "    cursorclass=pymysql.cursors.DictCursor  # json 형식으로 데이터가 전달되는 경우가 많다\n",
    ")\n"
   ]
  },
  {
   "cell_type": "code",
   "execution_count": 2,
   "id": "350566e7534220c9",
   "metadata": {
    "ExecuteTime": {
     "end_time": "2024-07-20T12:14:15.938557Z",
     "start_time": "2024-07-20T12:14:15.933040Z"
    }
   },
   "outputs": [
    {
     "name": "stdout",
     "output_type": "stream",
     "text": [
      "{'title': '너에게 들려주는 단단한 말', 'author': '김종원 저'}\n",
      "{'title': '하루 한 장 나의 어휘력을 위한 필사 노트', 'author': '유선경 저'}\n",
      "{'title': '불변의 법칙', 'author': '모건 하우절 저/이수경 역'}\n",
      "{'title': '죽이고 싶은 아이 2', 'author': '이꽃님 저'}\n",
      "{'title': '언젠가 우리가 같은 별을 바라본다면', 'author': '차인표 저'}\n",
      "{'title': '내 몸 혁명', 'author': '박용우 저'}\n",
      "{'title': '신화의 숲', 'author': '김헌 저'}\n",
      "{'title': '세이노의 가르침', 'author': '세이노(SayNo) 저'}\n",
      "{'title': '2024 큰별쌤 최태성의 별별한국사 한국사능력검정시험 심화(1,2,3급) 상', 'author': '최태성 저'}\n",
      "{'title': 'ETS 토익 정기시험 기출문제집 1000 Vol. 4 RC', 'author': 'ETS 저'}\n",
      "{'title': '2024 큰별쌤 최태성의 별별한국사 한국사능력검정시험 심화(1,2,3급) 하', 'author': '최태성 저'}\n",
      "{'title': '그의 운명에 대한 아주 개인적인 생각', 'author': '유시민 저'}\n",
      "{'title': 'ETS 토익 정기시험 기출문제집 1000 Vol. 4 LC', 'author': 'ETS 저'}\n",
      "{'title': '허송세월', 'author': '김훈 저'}\n",
      "{'title': 'THE MONEY BOOK 더 머니북', 'author': '토스 저'}\n",
      "{'title': '마법천자문 63', 'author': '스튜디오 훈훈 글/정수영 그림/강용철 감수'}\n",
      "{'title': '나를 소모하지 않는 현명한 태도에 관하여', 'author': '마티아스 뇔케 저/이미옥 역'}\n",
      "{'title': '초역 부처의 말', 'author': '코이케 류노스케 저/박재현 역'}\n",
      "{'title': '나는 다정한 관찰자가 되기로 했다', 'author': '이은경 저'}\n",
      "{'title': '모순', 'author': '양귀자 저'}\n",
      "{'title': '2024 큰별쌤 최태성의 별별한국사 기출 500제 한국사능력검정시험 심화 (1,2,3급)', 'author': '최태성 저'}\n",
      "{'title': '돈의 심리학 (30만 부 기념 스페셜 에디션)', 'author': '모건 하우절 저/이지연 역'}\n",
      "{'title': '마흔에 읽는 쇼펜하우어 (200쇄 기념 확장판)', 'author': '강용수 저'}\n",
      "{'title': '꽃길이 따로 있나, 내 삶이 꽃인 것을', 'author': '오평선 저'}\n",
      "{'title': '나는 메트로폴리탄 미술관의 경비원입니다', 'author': '패트릭 브링리 저/김희정, 조현주 역'}\n",
      "{'title': '빨모쌤의 라이브 영어회화', 'author': '신용하 저'}\n",
      "{'title': '나의 돈키호테', 'author': '김호연 저'}\n",
      "{'title': '주식투자 리스타트', 'author': 'systrader79 저'}\n",
      "{'title': '부모의 어휘력', 'author': '김종원 저'}\n",
      "{'title': '해커스 토익 기출 VOCA (보카)', 'author': 'David Cho 저'}\n",
      "{'title': '죽이고 싶은 아이', 'author': '이꽃님 저'}\n",
      "{'title': '귀명사 골목의 여름', 'author': '가시와바 사치코 글/사타케 미호 그림/고향옥 역'}\n",
      "{'title': '나에게 들려주는 예쁜 말', 'author': '김종원 글/나래 그림'}\n",
      "{'title': '츠츠츠츠', 'author': '이지은 글그림'}\n",
      "{'title': '꽁꽁꽁 댕댕', 'author': '윤정주 글그림'}\n",
      "{'title': '흔한남매 이무기 2', 'author': '흔한남매 원저/이종혁 글/도니패밀리 그림/흔한컴퍼니 감수'}\n",
      "{'title': '여름을 한 입 베어 물었더니', 'author': '이꽃님 저'}\n",
      "{'title': '감정 호텔', 'author': '리디아 브란코비치 글그림/장미란 역'}\n",
      "{'title': '리틀 라이프 1', 'author': '한야 야나기하라 저'}\n",
      "{'title': '서로에게 들려주는 따뜻한 말', 'author': '김종원 글/나래 그림'}\n",
      "{'title': '당신이 누군가를 죽였다', 'author': '히가시노 게이고 저 / 최고은 역'}\n",
      "{'title': '마녀와의 7일', 'author': '히가시노 게이고 저/양윤옥 역'}\n",
      "{'title': '무정형의 삶', 'author': '김민철 저'}\n",
      "{'title': '2025 써니 행정법총론', 'author': '박준철 편저'}\n",
      "{'title': '해독 혁명', 'author': '닥터 라이블리 저'}\n",
      "{'title': '리틀 라이프 2', 'author': '한야 야나기하라 저'}\n",
      "{'title': '퓨처 셀프', 'author': '벤저민 하디 저/최은아 역'}\n"
     ]
    }
   ],
   "source": [
    "# (1). 모든 책의 제목과 저자를 조회\n",
    "sql = \"select Books.title, Books.author from Books;\"\n",
    "results = excute_query(conn, sql)\n",
    "for row in results:\n",
    "    print(row)"
   ]
  },
  {
   "cell_type": "code",
   "execution_count": 3,
   "id": "dffb66775debe62f",
   "metadata": {
    "ExecuteTime": {
     "end_time": "2024-07-20T12:14:15.956941Z",
     "start_time": "2024-07-20T12:14:15.951095Z"
    }
   },
   "outputs": [
    {
     "name": "stdout",
     "output_type": "stream",
     "text": [
      "{'title': '너에게 들려주는 단단한 말', 'rating': Decimal('10.0')}\n",
      "{'title': '하루 한 장 나의 어휘력을 위한 필사 노트', 'rating': Decimal('9.7')}\n",
      "{'title': '불변의 법칙', 'rating': Decimal('9.4')}\n",
      "{'title': '죽이고 싶은 아이 2', 'rating': Decimal('9.9')}\n",
      "{'title': '언젠가 우리가 같은 별을 바라본다면', 'rating': Decimal('9.8')}\n",
      "{'title': '내 몸 혁명', 'rating': Decimal('9.8')}\n",
      "{'title': '신화의 숲', 'rating': Decimal('10.8')}\n",
      "{'title': '세이노의 가르침', 'rating': Decimal('9.0')}\n",
      "{'title': '2024 큰별쌤 최태성의 별별한국사 한국사능력검정시험 심화(1,2,3급) 상', 'rating': Decimal('9.7')}\n",
      "{'title': 'ETS 토익 정기시험 기출문제집 1000 Vol. 4 RC', 'rating': Decimal('9.6')}\n",
      "{'title': '2024 큰별쌤 최태성의 별별한국사 한국사능력검정시험 심화(1,2,3급) 하', 'rating': Decimal('10.0')}\n",
      "{'title': '그의 운명에 대한 아주 개인적인 생각', 'rating': Decimal('9.1')}\n",
      "{'title': 'ETS 토익 정기시험 기출문제집 1000 Vol. 4 LC', 'rating': Decimal('9.8')}\n",
      "{'title': '허송세월', 'rating': Decimal('9.3')}\n",
      "{'title': 'THE MONEY BOOK 더 머니북', 'rating': Decimal('8.9')}\n",
      "{'title': '마법천자문 63', 'rating': Decimal('10.0')}\n",
      "{'title': '나를 소모하지 않는 현명한 태도에 관하여', 'rating': Decimal('8.7')}\n",
      "{'title': '초역 부처의 말', 'rating': Decimal('10.7')}\n",
      "{'title': '나는 다정한 관찰자가 되기로 했다', 'rating': Decimal('9.6')}\n",
      "{'title': '모순', 'rating': Decimal('9.6')}\n",
      "{'title': '2024 큰별쌤 최태성의 별별한국사 기출 500제 한국사능력검정시험 심화 (1,2,3급)', 'rating': Decimal('9.9')}\n",
      "{'title': '돈의 심리학 (30만 부 기념 스페셜 에디션)', 'rating': Decimal('9.3')}\n",
      "{'title': '마흔에 읽는 쇼펜하우어 (200쇄 기념 확장판)', 'rating': Decimal('8.6')}\n",
      "{'title': '꽃길이 따로 있나, 내 삶이 꽃인 것을', 'rating': Decimal('10.6')}\n",
      "{'title': '나는 메트로폴리탄 미술관의 경비원입니다', 'rating': Decimal('8.9')}\n",
      "{'title': '빨모쌤의 라이브 영어회화', 'rating': Decimal('9.7')}\n",
      "{'title': '나의 돈키호테', 'rating': Decimal('9.7')}\n",
      "{'title': '주식투자 리스타트', 'rating': Decimal('9.1')}\n",
      "{'title': '부모의 어휘력', 'rating': Decimal('9.6')}\n",
      "{'title': '해커스 토익 기출 VOCA (보카)', 'rating': Decimal('9.5')}\n",
      "{'title': '죽이고 싶은 아이', 'rating': Decimal('9.5')}\n",
      "{'title': '귀명사 골목의 여름', 'rating': Decimal('9.9')}\n",
      "{'title': '나에게 들려주는 예쁜 말', 'rating': Decimal('9.8')}\n",
      "{'title': '츠츠츠츠', 'rating': Decimal('9.9')}\n",
      "{'title': '꽁꽁꽁 댕댕', 'rating': Decimal('9.9')}\n",
      "{'title': '흔한남매 이무기 2', 'rating': Decimal('9.9')}\n",
      "{'title': '여름을 한 입 베어 물었더니', 'rating': Decimal('9.7')}\n",
      "{'title': '감정 호텔', 'rating': Decimal('9.9')}\n",
      "{'title': '리틀 라이프 1', 'rating': Decimal('9.2')}\n",
      "{'title': '서로에게 들려주는 따뜻한 말', 'rating': Decimal('10.0')}\n",
      "{'title': '마녀와의 7일', 'rating': Decimal('9.5')}\n",
      "{'title': '무정형의 삶', 'rating': Decimal('10.0')}\n",
      "{'title': '2025 써니 행정법총론', 'rating': Decimal('9.8')}\n",
      "{'title': '해독 혁명', 'rating': Decimal('10.0')}\n",
      "{'title': '리틀 라이프 2', 'rating': Decimal('9.8')}\n",
      "{'title': '퓨처 셀프', 'rating': Decimal('8.6')}\n"
     ]
    }
   ],
   "source": [
    "# (2). 평점이 8 이상인 책 목록 조회\n",
    "sql = \"select Books.title, rating from Books where rating >= 8;\"\n",
    "results = excute_query(conn, sql)\n",
    "for row in results:\n",
    "    print(row)"
   ]
  },
  {
   "cell_type": "code",
   "execution_count": 4,
   "id": "a74627839642b66e",
   "metadata": {
    "ExecuteTime": {
     "end_time": "2024-07-20T12:14:15.963027Z",
     "start_time": "2024-07-20T12:14:15.958935Z"
    }
   },
   "outputs": [
    {
     "name": "stdout",
     "output_type": "stream",
     "text": [
      "{'title': '하루 한 장 나의 어휘력을 위한 필사 노트', 'review': 201}\n",
      "{'title': '불변의 법칙', 'review': 367}\n",
      "{'title': '세이노의 가르침', 'review': 2345}\n",
      "{'title': 'ETS 토익 정기시험 기출문제집 1000 Vol. 4 RC', 'review': 158}\n",
      "{'title': '그의 운명에 대한 아주 개인적인 생각', 'review': 381}\n",
      "{'title': 'ETS 토익 정기시험 기출문제집 1000 Vol. 4 LC', 'review': 138}\n",
      "{'title': '나를 소모하지 않는 현명한 태도에 관하여', 'review': 161}\n",
      "{'title': '나는 다정한 관찰자가 되기로 했다', 'review': 141}\n",
      "{'title': '모순', 'review': 1008}\n",
      "{'title': '돈의 심리학 (30만 부 기념 스페셜 에디션)', 'review': 889}\n",
      "{'title': '마흔에 읽는 쇼펜하우어 (200쇄 기념 확장판)', 'review': 536}\n",
      "{'title': '꽃길이 따로 있나, 내 삶이 꽃인 것을', 'review': 124}\n",
      "{'title': '나는 메트로폴리탄 미술관의 경비원입니다', 'review': 391}\n",
      "{'title': '빨모쌤의 라이브 영어회화', 'review': 205}\n",
      "{'title': '나의 돈키호테', 'review': 245}\n",
      "{'title': '해커스 토익 기출 VOCA (보카)', 'review': 943}\n",
      "{'title': '죽이고 싶은 아이', 'review': 285}\n",
      "{'title': '여름을 한 입 베어 물었더니', 'review': 177}\n",
      "{'title': '리틀 라이프 1', 'review': 124}\n",
      "{'title': '퓨처 셀프', 'review': 485}\n"
     ]
    }
   ],
   "source": [
    "# (3). 리뷰 수가 100개 이상인 책들의 제목과 리뷰 수를 조회하세요.\n",
    "sql = \"select Books.title, Books.review from Books where review >= 100\"\n",
    "results = excute_query(conn, sql)\n",
    "for row in results:\n",
    "    print(row)"
   ]
  },
  {
   "cell_type": "code",
   "execution_count": 5,
   "id": "627a6da4a4298e31",
   "metadata": {
    "ExecuteTime": {
     "end_time": "2024-07-20T12:14:15.969179Z",
     "start_time": "2024-07-20T12:14:15.964961Z"
    }
   },
   "outputs": [
    {
     "name": "stdout",
     "output_type": "stream",
     "text": [
      "{'title': '너에게 들려주는 단단한 말', 'price': Decimal('18000.00')}\n",
      "{'title': '죽이고 싶은 아이 2', 'price': Decimal('14000.00')}\n",
      "{'title': '언젠가 우리가 같은 별을 바라본다면', 'price': Decimal('12000.00')}\n",
      "{'title': '내 몸 혁명', 'price': Decimal('19500.00')}\n",
      "{'title': '신화의 숲', 'price': Decimal('18000.00')}\n",
      "{'title': '세이노의 가르침', 'price': Decimal('7200.00')}\n",
      "{'title': '2024 큰별쌤 최태성의 별별한국사 한국사능력검정시험 심화(1,2,3급) 상', 'price': Decimal('16000.00')}\n",
      "{'title': 'ETS 토익 정기시험 기출문제집 1000 Vol. 4 RC', 'price': Decimal('19800.00')}\n",
      "{'title': '2024 큰별쌤 최태성의 별별한국사 한국사능력검정시험 심화(1,2,3급) 하', 'price': Decimal('15500.00')}\n",
      "{'title': '그의 운명에 대한 아주 개인적인 생각', 'price': Decimal('16800.00')}\n",
      "{'title': 'ETS 토익 정기시험 기출문제집 1000 Vol. 4 LC', 'price': Decimal('19800.00')}\n",
      "{'title': '허송세월', 'price': Decimal('18000.00')}\n",
      "{'title': '마법천자문 63', 'price': Decimal('15800.00')}\n",
      "{'title': '나를 소모하지 않는 현명한 태도에 관하여', 'price': Decimal('17800.00')}\n",
      "{'title': '초역 부처의 말', 'price': Decimal('17800.00')}\n",
      "{'title': '나는 다정한 관찰자가 되기로 했다', 'price': Decimal('17800.00')}\n",
      "{'title': '모순', 'price': Decimal('13000.00')}\n",
      "{'title': '2024 큰별쌤 최태성의 별별한국사 기출 500제 한국사능력검정시험 심화 (1,2,3급)', 'price': Decimal('19500.00')}\n",
      "{'title': '돈의 심리학 (30만 부 기념 스페셜 에디션)', 'price': Decimal('19800.00')}\n",
      "{'title': '마흔에 읽는 쇼펜하우어 (200쇄 기념 확장판)', 'price': Decimal('17000.00')}\n",
      "{'title': '꽃길이 따로 있나, 내 삶이 꽃인 것을', 'price': Decimal('16800.00')}\n",
      "{'title': '나는 메트로폴리탄 미술관의 경비원입니다', 'price': Decimal('17500.00')}\n",
      "{'title': '나의 돈키호테', 'price': Decimal('18000.00')}\n",
      "{'title': '주식투자 리스타트', 'price': Decimal('18000.00')}\n",
      "{'title': '부모의 어휘력', 'price': Decimal('19000.00')}\n",
      "{'title': '해커스 토익 기출 VOCA (보카)', 'price': Decimal('12900.00')}\n",
      "{'title': '죽이고 싶은 아이', 'price': Decimal('12500.00')}\n",
      "{'title': '귀명사 골목의 여름', 'price': Decimal('16800.00')}\n",
      "{'title': '나에게 들려주는 예쁜 말', 'price': Decimal('16800.00')}\n",
      "{'title': '츠츠츠츠', 'price': Decimal('16800.00')}\n",
      "{'title': '꽁꽁꽁 댕댕', 'price': Decimal('15000.00')}\n",
      "{'title': '흔한남매 이무기 2', 'price': Decimal('15800.00')}\n",
      "{'title': '여름을 한 입 베어 물었더니', 'price': Decimal('12500.00')}\n",
      "{'title': '감정 호텔', 'price': Decimal('15000.00')}\n",
      "{'title': '리틀 라이프 1', 'price': Decimal('14800.00')}\n",
      "{'title': '서로에게 들려주는 따뜻한 말', 'price': Decimal('16800.00')}\n",
      "{'title': '당신이 누군가를 죽였다', 'price': Decimal('19800.00')}\n",
      "{'title': '마녀와의 7일', 'price': Decimal('18800.00')}\n",
      "{'title': '무정형의 삶', 'price': Decimal('20000.00')}\n",
      "{'title': '해독 혁명', 'price': Decimal('18500.00')}\n",
      "{'title': '리틀 라이프 2', 'price': Decimal('14800.00')}\n",
      "{'title': '퓨처 셀프', 'price': Decimal('19800.00')}\n"
     ]
    }
   ],
   "source": [
    "# (4). 가격이 20,000원 미만인 책들의 제목과 가격을 조회하세요.\n",
    "sql = \"select Books.title, Books.price from Books where price <= 20000\"\n",
    "results = excute_query(conn, sql)\n",
    "for row in results:\n",
    "    print(row)"
   ]
  },
  {
   "cell_type": "code",
   "execution_count": 6,
   "id": "beb339b8ec5a7eee",
   "metadata": {
    "ExecuteTime": {
     "end_time": "2024-07-20T12:14:15.976389Z",
     "start_time": "2024-07-20T12:14:15.973412Z"
    }
   },
   "outputs": [
    {
     "name": "stdout",
     "output_type": "stream",
     "text": [
      "{'title': '불변의 법칙', 'ranking_weeks': 6}\n",
      "{'title': '신화의 숲', 'ranking_weeks': 6}\n",
      "{'title': '세이노의 가르침', 'ranking_weeks': 22}\n",
      "{'title': '2024 큰별쌤 최태성의 별별한국사 한국사능력검정시험 심화(1,2,3급) 상', 'ranking_weeks': 11}\n",
      "{'title': 'ETS 토익 정기시험 기출문제집 1000 Vol. 4 RC', 'ranking_weeks': 26}\n",
      "{'title': '2024 큰별쌤 최태성의 별별한국사 한국사능력검정시험 심화(1,2,3급) 하', 'ranking_weeks': 10}\n",
      "{'title': '그의 운명에 대한 아주 개인적인 생각', 'ranking_weeks': 4}\n",
      "{'title': 'ETS 토익 정기시험 기출문제집 1000 Vol. 4 LC', 'ranking_weeks': 20}\n",
      "{'title': '허송세월', 'ranking_weeks': 4}\n",
      "{'title': 'THE MONEY BOOK 더 머니북', 'ranking_weeks': 7}\n",
      "{'title': '초역 부처의 말', 'ranking_weeks': 5}\n",
      "{'title': '나는 다정한 관찰자가 되기로 했다', 'ranking_weeks': 8}\n",
      "{'title': '돈의 심리학 (30만 부 기념 스페셜 에디션)', 'ranking_weeks': 28}\n",
      "{'title': '마흔에 읽는 쇼펜하우어 (200쇄 기념 확장판)', 'ranking_weeks': 12}\n",
      "{'title': '꽃길이 따로 있나, 내 삶이 꽃인 것을', 'ranking_weeks': 10}\n",
      "{'title': '나는 메트로폴리탄 미술관의 경비원입니다', 'ranking_weeks': 21}\n",
      "{'title': '빨모쌤의 라이브 영어회화', 'ranking_weeks': 8}\n",
      "{'title': '나의 돈키호테', 'ranking_weeks': 4}\n",
      "{'title': '주식투자 리스타트', 'ranking_weeks': 5}\n",
      "{'title': '부모의 어휘력', 'ranking_weeks': 4}\n",
      "{'title': '해커스 토익 기출 VOCA (보카)', 'ranking_weeks': 64}\n",
      "{'title': '죽이고 싶은 아이', 'ranking_weeks': 5}\n",
      "{'title': '나에게 들려주는 예쁜 말', 'ranking_weeks': 6}\n",
      "{'title': '여름을 한 입 베어 물었더니', 'ranking_weeks': 9}\n",
      "{'title': '리틀 라이프 2', 'ranking_weeks': 4}\n"
     ]
    }
   ],
   "source": [
    "# (5). 국내도서TOP100에 4주 이상 머문 책들을 조회하세요.\n",
    "sql = \"select Books.title, Books.ranking_weeks from Books where ranking_weeks >= 4;\"\n",
    "results = excute_query(conn, sql)\n",
    "for row in results:\n",
    "    print(row)"
   ]
  },
  {
   "cell_type": "code",
   "execution_count": 7,
   "id": "e2e9db95861062f8",
   "metadata": {
    "ExecuteTime": {
     "end_time": "2024-07-20T12:14:15.993503Z",
     "start_time": "2024-07-20T12:14:15.986877Z"
    }
   },
   "outputs": [
    {
     "name": "stdout",
     "output_type": "stream",
     "text": [
      "{'author': '이꽃님 저', 'book_count': 3}\n",
      "{'author': '최태성 저', 'book_count': 3}\n",
      "{'author': '김종원 저', 'book_count': 2}\n",
      "{'author': '한야 야나기하라 저', 'book_count': 2}\n",
      "{'author': '김종원 글/나래 그림', 'book_count': 2}\n",
      "{'author': 'ETS 저', 'book_count': 2}\n",
      "{'author': '김헌 저', 'book_count': 1}\n",
      "{'author': '세이노(SayNo) 저', 'book_count': 1}\n",
      "{'author': '박용우 저', 'book_count': 1}\n",
      "{'author': '차인표 저', 'book_count': 1}\n",
      "{'author': '유시민 저', 'book_count': 1}\n",
      "{'author': '김훈 저', 'book_count': 1}\n",
      "{'author': '토스 저', 'book_count': 1}\n",
      "{'author': '스튜디오 훈훈 글/정수영 그림/강용철 감수', 'book_count': 1}\n",
      "{'author': '마티아스 뇔케 저/이미옥 역', 'book_count': 1}\n",
      "{'author': '코이케 류노스케 저/박재현 역', 'book_count': 1}\n",
      "{'author': '이은경 저', 'book_count': 1}\n",
      "{'author': '양귀자 저', 'book_count': 1}\n",
      "{'author': '모건 하우절 저/이지연 역', 'book_count': 1}\n",
      "{'author': '강용수 저', 'book_count': 1}\n",
      "{'author': '오평선 저', 'book_count': 1}\n",
      "{'author': '패트릭 브링리 저/김희정, 조현주 역', 'book_count': 1}\n",
      "{'author': '신용하 저', 'book_count': 1}\n",
      "{'author': '김호연 저', 'book_count': 1}\n",
      "{'author': 'systrader79 저', 'book_count': 1}\n",
      "{'author': 'David Cho 저', 'book_count': 1}\n",
      "{'author': '가시와바 사치코 글/사타케 미호 그림/고향옥 역', 'book_count': 1}\n",
      "{'author': '모건 하우절 저/이수경 역', 'book_count': 1}\n",
      "{'author': '이지은 글그림', 'book_count': 1}\n",
      "{'author': '윤정주 글그림', 'book_count': 1}\n",
      "{'author': '흔한남매 원저/이종혁 글/도니패밀리 그림/흔한컴퍼니 감수', 'book_count': 1}\n",
      "{'author': '리디아 브란코비치 글그림/장미란 역', 'book_count': 1}\n",
      "{'author': '유선경 저', 'book_count': 1}\n",
      "{'author': '히가시노 게이고 저 / 최고은 역', 'book_count': 1}\n",
      "{'author': '히가시노 게이고 저/양윤옥 역', 'book_count': 1}\n",
      "{'author': '김민철 저', 'book_count': 1}\n",
      "{'author': '박준철 편저', 'book_count': 1}\n",
      "{'author': '닥터 라이블리 저', 'book_count': 1}\n",
      "{'author': '벤저민 하디 저/최은아 역', 'book_count': 1}\n",
      "**********************************************************************\n"
     ]
    }
   ],
   "source": [
    "# (6). 특정 저자의 모든 책을 조회하세요.\n",
    "sql = \"select Books.author, count(*) as book_count from Books group by Books.author order by book_count DESC\"\n",
    "results = excute_query(conn, sql)\n",
    "for row in results:\n",
    "    print(row)\n",
    "print(\"*\"*70)\n",
    "\n",
    "sql = \"select Books.author, Books.title from Books where author = '베르나르 베르베르 저/전미연 역'\"\n",
    "results = excute_query(conn, sql)\n",
    "for row in results:\n",
    "    print(row)"
   ]
  },
  {
   "cell_type": "code",
   "execution_count": 8,
   "id": "c51c1250e2942ff",
   "metadata": {
    "ExecuteTime": {
     "end_time": "2024-07-20T12:14:15.999064Z",
     "start_time": "2024-07-20T12:14:15.995699Z"
    }
   },
   "outputs": [
    {
     "name": "stdout",
     "output_type": "stream",
     "text": [
      "{'publisher': '포레스트북스', 'title': '신화의 숲'}\n",
      "{'publisher': '포레스트북스', 'title': '초역 부처의 말'}\n",
      "{'publisher': '포레스트북스', 'title': '꽃길이 따로 있나, 내 삶이 꽃인 것을'}\n"
     ]
    }
   ],
   "source": [
    "# (7). 특정 출판사가 출판한 책들을 조회하세요.\n",
    "sql = \"select Books.publisher, Books.title from Books where publisher = '포레스트북스';\"\n",
    "results = excute_query(conn, sql)\n",
    "for row in results:\n",
    "    print(row)"
   ]
  },
  {
   "cell_type": "code",
   "execution_count": 9,
   "id": "4b63eaf18f652422",
   "metadata": {
    "ExecuteTime": {
     "end_time": "2024-07-20T12:14:16.004296Z",
     "start_time": "2024-07-20T12:14:16.001090Z"
    }
   },
   "outputs": [
    {
     "name": "stdout",
     "output_type": "stream",
     "text": [
      "{'author': '김종원 저', 'book_count': 2}\n",
      "{'author': '유선경 저', 'book_count': 1}\n",
      "{'author': '모건 하우절 저/이수경 역', 'book_count': 1}\n",
      "{'author': '이꽃님 저', 'book_count': 3}\n",
      "{'author': '차인표 저', 'book_count': 1}\n",
      "{'author': '박용우 저', 'book_count': 1}\n",
      "{'author': '김헌 저', 'book_count': 1}\n",
      "{'author': '세이노(SayNo) 저', 'book_count': 1}\n",
      "{'author': '최태성 저', 'book_count': 3}\n",
      "{'author': 'ETS 저', 'book_count': 2}\n",
      "{'author': '유시민 저', 'book_count': 1}\n",
      "{'author': '김훈 저', 'book_count': 1}\n",
      "{'author': '토스 저', 'book_count': 1}\n",
      "{'author': '스튜디오 훈훈 글/정수영 그림/강용철 감수', 'book_count': 1}\n",
      "{'author': '마티아스 뇔케 저/이미옥 역', 'book_count': 1}\n",
      "{'author': '코이케 류노스케 저/박재현 역', 'book_count': 1}\n",
      "{'author': '이은경 저', 'book_count': 1}\n",
      "{'author': '양귀자 저', 'book_count': 1}\n",
      "{'author': '모건 하우절 저/이지연 역', 'book_count': 1}\n",
      "{'author': '강용수 저', 'book_count': 1}\n",
      "{'author': '오평선 저', 'book_count': 1}\n",
      "{'author': '패트릭 브링리 저/김희정, 조현주 역', 'book_count': 1}\n",
      "{'author': '신용하 저', 'book_count': 1}\n",
      "{'author': '김호연 저', 'book_count': 1}\n",
      "{'author': 'systrader79 저', 'book_count': 1}\n",
      "{'author': 'David Cho 저', 'book_count': 1}\n",
      "{'author': '가시와바 사치코 글/사타케 미호 그림/고향옥 역', 'book_count': 1}\n",
      "{'author': '김종원 글/나래 그림', 'book_count': 2}\n",
      "{'author': '이지은 글그림', 'book_count': 1}\n",
      "{'author': '윤정주 글그림', 'book_count': 1}\n",
      "{'author': '흔한남매 원저/이종혁 글/도니패밀리 그림/흔한컴퍼니 감수', 'book_count': 1}\n",
      "{'author': '리디아 브란코비치 글그림/장미란 역', 'book_count': 1}\n",
      "{'author': '한야 야나기하라 저', 'book_count': 2}\n",
      "{'author': '히가시노 게이고 저 / 최고은 역', 'book_count': 1}\n",
      "{'author': '히가시노 게이고 저/양윤옥 역', 'book_count': 1}\n",
      "{'author': '김민철 저', 'book_count': 1}\n",
      "{'author': '박준철 편저', 'book_count': 1}\n",
      "{'author': '닥터 라이블리 저', 'book_count': 1}\n",
      "{'author': '벤저민 하디 저/최은아 역', 'book_count': 1}\n"
     ]
    }
   ],
   "source": [
    "# (8). 저자별로 출판한 책의 수를 조회하세요\n",
    "sql = \"select author, count(*) as book_count from Books group by author\"\n",
    "results = excute_query(conn, sql)\n",
    "for row in results:\n",
    "    print(row)"
   ]
  },
  {
   "cell_type": "code",
   "execution_count": 10,
   "id": "996f0094eb4f0d60",
   "metadata": {
    "ExecuteTime": {
     "end_time": "2024-07-20T12:14:16.022444Z",
     "start_time": "2024-07-20T12:14:16.005283Z"
    }
   },
   "outputs": [
    {
     "name": "stdout",
     "output_type": "stream",
     "text": [
      "[{'publisher': '포레스트북스', 'book_count': 3}]\n"
     ]
    }
   ],
   "source": [
    "# (9). 가장 많은 책을 출판한 출판사를 찾으세요\n",
    "sql = \"\"\"\n",
    "select Books.publisher, count(*) as book_count\n",
    "from Books\n",
    "group by publisher\n",
    "order by book_count desc\n",
    "limit 1;\n",
    "\"\"\"\n",
    "print(excute_query(conn, sql))\n"
   ]
  },
  {
   "cell_type": "code",
   "execution_count": 11,
   "id": "6ae375747a1a36e2",
   "metadata": {
    "ExecuteTime": {
     "end_time": "2024-07-20T12:14:16.029130Z",
     "start_time": "2024-07-20T12:14:16.023620Z"
    }
   },
   "outputs": [
    {
     "name": "stdout",
     "output_type": "stream",
     "text": [
      "{'author': '김헌 저', 'avg_rating': Decimal('10.80000')}\n",
      "{'author': '코이케 류노스케 저/박재현 역', 'avg_rating': Decimal('10.70000')}\n",
      "{'author': '오평선 저', 'avg_rating': Decimal('10.60000')}\n",
      "{'author': '김민철 저', 'avg_rating': Decimal('10.00000')}\n",
      "{'author': '닥터 라이블리 저', 'avg_rating': Decimal('10.00000')}\n",
      "{'author': '스튜디오 훈훈 글/정수영 그림/강용철 감수', 'avg_rating': Decimal('10.00000')}\n",
      "{'author': '리디아 브란코비치 글그림/장미란 역', 'avg_rating': Decimal('9.90000')}\n",
      "{'author': '흔한남매 원저/이종혁 글/도니패밀리 그림/흔한컴퍼니 감수', 'avg_rating': Decimal('9.90000')}\n",
      "{'author': '윤정주 글그림', 'avg_rating': Decimal('9.90000')}\n",
      "{'author': '이지은 글그림', 'avg_rating': Decimal('9.90000')}\n",
      "{'author': '김종원 글/나래 그림', 'avg_rating': Decimal('9.90000')}\n",
      "{'author': '가시와바 사치코 글/사타케 미호 그림/고향옥 역', 'avg_rating': Decimal('9.90000')}\n",
      "{'author': '최태성 저', 'avg_rating': Decimal('9.86667')}\n",
      "{'author': '김종원 저', 'avg_rating': Decimal('9.80000')}\n",
      "{'author': '박용우 저', 'avg_rating': Decimal('9.80000')}\n",
      "{'author': '차인표 저', 'avg_rating': Decimal('9.80000')}\n",
      "{'author': '박준철 편저', 'avg_rating': Decimal('9.80000')}\n",
      "{'author': 'ETS 저', 'avg_rating': Decimal('9.70000')}\n",
      "{'author': '신용하 저', 'avg_rating': Decimal('9.70000')}\n",
      "{'author': '김호연 저', 'avg_rating': Decimal('9.70000')}\n",
      "{'author': '이꽃님 저', 'avg_rating': Decimal('9.70000')}\n",
      "{'author': '유선경 저', 'avg_rating': Decimal('9.70000')}\n",
      "{'author': '이은경 저', 'avg_rating': Decimal('9.60000')}\n",
      "{'author': '양귀자 저', 'avg_rating': Decimal('9.60000')}\n",
      "{'author': 'David Cho 저', 'avg_rating': Decimal('9.50000')}\n",
      "{'author': '한야 야나기하라 저', 'avg_rating': Decimal('9.50000')}\n",
      "{'author': '히가시노 게이고 저/양윤옥 역', 'avg_rating': Decimal('9.50000')}\n",
      "{'author': '모건 하우절 저/이수경 역', 'avg_rating': Decimal('9.40000')}\n",
      "{'author': '김훈 저', 'avg_rating': Decimal('9.30000')}\n",
      "{'author': '모건 하우절 저/이지연 역', 'avg_rating': Decimal('9.30000')}\n",
      "{'author': '유시민 저', 'avg_rating': Decimal('9.10000')}\n",
      "{'author': 'systrader79 저', 'avg_rating': Decimal('9.10000')}\n",
      "{'author': '세이노(SayNo) 저', 'avg_rating': Decimal('9.00000')}\n",
      "{'author': '토스 저', 'avg_rating': Decimal('8.90000')}\n",
      "{'author': '패트릭 브링리 저/김희정, 조현주 역', 'avg_rating': Decimal('8.90000')}\n",
      "{'author': '마티아스 뇔케 저/이미옥 역', 'avg_rating': Decimal('8.70000')}\n",
      "{'author': '강용수 저', 'avg_rating': Decimal('8.60000')}\n",
      "{'author': '벤저민 하디 저/최은아 역', 'avg_rating': Decimal('8.60000')}\n",
      "{'author': '히가시노 게이고 저 / 최고은 역', 'avg_rating': Decimal('0.00000')}\n"
     ]
    }
   ],
   "source": [
    "# (10). 가장 높은 평균 평점을 가진 저자를 찾으세요.\n",
    "sql = \"\"\"\n",
    "select Books.author, AVG(rating) as avg_rating \n",
    "from Books group by Books.author \n",
    "           order by avg_rating DESC\n",
    "\"\"\"\n",
    "results = excute_query(conn, sql)\n",
    "for row in results:\n",
    "    print(row)"
   ]
  },
  {
   "cell_type": "code",
   "execution_count": 12,
   "id": "1f307f38fdb6c7ab",
   "metadata": {
    "ExecuteTime": {
     "end_time": "2024-07-20T12:14:16.044568Z",
     "start_time": "2024-07-20T12:14:16.041136Z"
    }
   },
   "outputs": [
    {
     "name": "stdout",
     "output_type": "stream",
     "text": [
      "[{'title': '너에게 들려주는 단단한 말', 'author': '김종원 저'}]\n"
     ]
    }
   ],
   "source": [
    "# (11). 국내도서랭킹이 1위인 책의 제목과 저자를 조회하세요.\n",
    "sql = \"\"\"\n",
    "select Books.title, Books.author\n",
    "from Books\n",
    "where ranking = 1;\n",
    "\"\"\"\n",
    "print(excute_query(conn, sql))"
   ]
  },
  {
   "cell_type": "code",
   "execution_count": 13,
   "id": "c3ebe41d8bb26b6a",
   "metadata": {
    "ExecuteTime": {
     "end_time": "2024-07-20T12:14:16.053145Z",
     "start_time": "2024-07-20T12:14:16.050063Z"
    }
   },
   "outputs": [
    {
     "name": "stdout",
     "output_type": "stream",
     "text": [
      "{'title': '세이노의 가르침', 'review': 2345, 'sales': 1151985}\n",
      "{'title': '마흔에 읽는 쇼펜하우어 (200쇄 기념 확장판)', 'review': 536, 'sales': 945498}\n",
      "{'title': '그의 운명에 대한 아주 개인적인 생각', 'review': 381, 'sales': 686070}\n",
      "{'title': '퓨처 셀프', 'review': 485, 'sales': 624405}\n",
      "{'title': '불변의 법칙', 'review': 367, 'sales': 594252}\n",
      "{'title': '하루 한 장 나의 어휘력을 위한 필사 노트', 'review': 201, 'sales': 563865}\n",
      "{'title': '나는 메트로폴리탄 미술관의 경비원입니다', 'review': 391, 'sales': 457161}\n",
      "{'title': 'ETS 토익 정기시험 기출문제집 1000 Vol. 4 RC', 'review': 158, 'sales': 445407}\n",
      "{'title': 'ETS 토익 정기시험 기출문제집 1000 Vol. 4 LC', 'review': 138, 'sales': 415800}\n",
      "{'title': '2024 큰별쌤 최태성의 별별한국사 한국사능력검정시험 심화(1,2,3급) 상', 'review': 76, 'sales': 407931}\n"
     ]
    }
   ],
   "source": [
    "# (12). 판매지수와 리뷰 수가 모두 높은 상위 10개의 책을 조회하세요.\n",
    "sql = \"\"\"\n",
    "select Books.title, Books.review, Books.sales\n",
    "from Books order by sales desc, review desc\n",
    "limit 10;\n",
    "\"\"\"\n",
    "results = excute_query(conn, sql)\n",
    "for row in results:\n",
    "    print(row)\n"
   ]
  },
  {
   "cell_type": "code",
   "execution_count": 14,
   "id": "923f53bbb389ef39",
   "metadata": {
    "ExecuteTime": {
     "end_time": "2024-07-20T12:14:16.061182Z",
     "start_time": "2024-07-20T12:14:16.058488Z"
    }
   },
   "outputs": [
    {
     "name": "stdout",
     "output_type": "stream",
     "text": [
      "{'title': '당신이 누군가를 죽였다', 'publishing': datetime.date(2024, 7, 23)}\n",
      "{'title': '마법천자문 63', 'publishing': datetime.date(2024, 7, 17)}\n",
      "{'title': '꽁꽁꽁 댕댕', 'publishing': datetime.date(2024, 7, 15)}\n",
      "{'title': '2025 써니 행정법총론', 'publishing': datetime.date(2024, 7, 15)}\n",
      "{'title': '너에게 들려주는 단단한 말', 'publishing': datetime.date(2024, 7, 10)}\n"
     ]
    }
   ],
   "source": [
    "# (13). 가장 최근에 출판된 5권의 책을 조회하세요\n",
    "sql = \"\"\"\n",
    "select title, publishing from Books \n",
    "order by publishing desc limit 5;\n",
    "\"\"\"\n",
    "results = excute_query(conn, sql)\n",
    "for row in results:\n",
    "    print(row)"
   ]
  },
  {
   "cell_type": "code",
   "execution_count": 15,
   "id": "9cb66db4c9d7bbf",
   "metadata": {
    "ExecuteTime": {
     "end_time": "2024-07-20T12:14:16.070173Z",
     "start_time": "2024-07-20T12:14:16.066831Z"
    }
   },
   "outputs": [
    {
     "name": "stdout",
     "output_type": "stream",
     "text": [
      "{'author': '김종원 저', 'avg_rating': Decimal('9.80000')}\n",
      "{'author': '유선경 저', 'avg_rating': Decimal('9.70000')}\n",
      "{'author': '모건 하우절 저/이수경 역', 'avg_rating': Decimal('9.40000')}\n",
      "{'author': '이꽃님 저', 'avg_rating': Decimal('9.70000')}\n",
      "{'author': '차인표 저', 'avg_rating': Decimal('9.80000')}\n",
      "{'author': '박용우 저', 'avg_rating': Decimal('9.80000')}\n",
      "{'author': '김헌 저', 'avg_rating': Decimal('10.80000')}\n",
      "{'author': '세이노(SayNo) 저', 'avg_rating': Decimal('9.00000')}\n",
      "{'author': '최태성 저', 'avg_rating': Decimal('9.86667')}\n",
      "{'author': 'ETS 저', 'avg_rating': Decimal('9.70000')}\n",
      "{'author': '유시민 저', 'avg_rating': Decimal('9.10000')}\n",
      "{'author': '김훈 저', 'avg_rating': Decimal('9.30000')}\n",
      "{'author': '토스 저', 'avg_rating': Decimal('8.90000')}\n",
      "{'author': '스튜디오 훈훈 글/정수영 그림/강용철 감수', 'avg_rating': Decimal('10.00000')}\n",
      "{'author': '마티아스 뇔케 저/이미옥 역', 'avg_rating': Decimal('8.70000')}\n",
      "{'author': '코이케 류노스케 저/박재현 역', 'avg_rating': Decimal('10.70000')}\n",
      "{'author': '이은경 저', 'avg_rating': Decimal('9.60000')}\n",
      "{'author': '양귀자 저', 'avg_rating': Decimal('9.60000')}\n",
      "{'author': '모건 하우절 저/이지연 역', 'avg_rating': Decimal('9.30000')}\n",
      "{'author': '강용수 저', 'avg_rating': Decimal('8.60000')}\n",
      "{'author': '오평선 저', 'avg_rating': Decimal('10.60000')}\n",
      "{'author': '패트릭 브링리 저/김희정, 조현주 역', 'avg_rating': Decimal('8.90000')}\n",
      "{'author': '신용하 저', 'avg_rating': Decimal('9.70000')}\n",
      "{'author': '김호연 저', 'avg_rating': Decimal('9.70000')}\n",
      "{'author': 'systrader79 저', 'avg_rating': Decimal('9.10000')}\n",
      "{'author': 'David Cho 저', 'avg_rating': Decimal('9.50000')}\n",
      "{'author': '가시와바 사치코 글/사타케 미호 그림/고향옥 역', 'avg_rating': Decimal('9.90000')}\n",
      "{'author': '김종원 글/나래 그림', 'avg_rating': Decimal('9.90000')}\n",
      "{'author': '이지은 글그림', 'avg_rating': Decimal('9.90000')}\n",
      "{'author': '윤정주 글그림', 'avg_rating': Decimal('9.90000')}\n",
      "{'author': '흔한남매 원저/이종혁 글/도니패밀리 그림/흔한컴퍼니 감수', 'avg_rating': Decimal('9.90000')}\n",
      "{'author': '리디아 브란코비치 글그림/장미란 역', 'avg_rating': Decimal('9.90000')}\n",
      "{'author': '한야 야나기하라 저', 'avg_rating': Decimal('9.50000')}\n",
      "{'author': '히가시노 게이고 저 / 최고은 역', 'avg_rating': Decimal('0.00000')}\n",
      "{'author': '히가시노 게이고 저/양윤옥 역', 'avg_rating': Decimal('9.50000')}\n",
      "{'author': '김민철 저', 'avg_rating': Decimal('10.00000')}\n",
      "{'author': '박준철 편저', 'avg_rating': Decimal('9.80000')}\n",
      "{'author': '닥터 라이블리 저', 'avg_rating': Decimal('10.00000')}\n",
      "{'author': '벤저민 하디 저/최은아 역', 'avg_rating': Decimal('8.60000')}\n"
     ]
    }
   ],
   "source": [
    "# (14). 저자별 평균 평점을 계산하세요\n",
    "sql = \"\"\"\n",
    "select Books.author, AVG(rating) as avg_rating \n",
    "from Books group by author;\n",
    "\"\"\"\n",
    "results = excute_query(conn, sql)\n",
    "for row in results:\n",
    "    print(row)"
   ]
  },
  {
   "cell_type": "code",
   "execution_count": 16,
   "id": "26e17c5e3e2771a4",
   "metadata": {
    "ExecuteTime": {
     "end_time": "2024-07-20T12:14:16.092570Z",
     "start_time": "2024-07-20T12:14:16.089159Z"
    }
   },
   "outputs": [
    {
     "name": "stdout",
     "output_type": "stream",
     "text": [
      "{'publishing': datetime.date(2024, 7, 10), 'book_sales': 3}\n",
      "{'publishing': datetime.date(2016, 6, 16), 'book_sales': 2}\n",
      "{'publishing': datetime.date(2024, 7, 15), 'book_sales': 2}\n",
      "{'publishing': datetime.date(2024, 7, 1), 'book_sales': 2}\n",
      "{'publishing': datetime.date(2024, 6, 25), 'book_sales': 2}\n",
      "{'publishing': datetime.date(2024, 5, 30), 'book_sales': 2}\n",
      "{'publishing': datetime.date(2023, 12, 20), 'book_sales': 2}\n",
      "{'publishing': datetime.date(2023, 12, 1), 'book_sales': 2}\n",
      "{'publishing': datetime.date(2023, 3, 2), 'book_sales': 1}\n",
      "{'publishing': datetime.date(2024, 5, 20), 'book_sales': 1}\n",
      "{'publishing': datetime.date(2024, 6, 19), 'book_sales': 1}\n",
      "{'publishing': datetime.date(2024, 6, 20), 'book_sales': 1}\n",
      "{'publishing': datetime.date(2024, 5, 27), 'book_sales': 1}\n",
      "{'publishing': datetime.date(2024, 7, 17), 'book_sales': 1}\n",
      "{'publishing': datetime.date(2024, 3, 10), 'book_sales': 1}\n",
      "{'publishing': datetime.date(2024, 1, 10), 'book_sales': 1}\n",
      "{'publishing': datetime.date(2013, 4, 1), 'book_sales': 1}\n",
      "{'publishing': datetime.date(2024, 1, 17), 'book_sales': 1}\n",
      "{'publishing': datetime.date(2021, 1, 13), 'book_sales': 1}\n",
      "{'publishing': datetime.date(2023, 9, 7), 'book_sales': 1}\n",
      "{'publishing': datetime.date(2024, 3, 22), 'book_sales': 1}\n",
      "{'publishing': datetime.date(2023, 11, 24), 'book_sales': 1}\n",
      "{'publishing': datetime.date(2024, 4, 24), 'book_sales': 1}\n",
      "{'publishing': datetime.date(2024, 4, 25), 'book_sales': 1}\n",
      "{'publishing': datetime.date(2012, 7, 20), 'book_sales': 1}\n",
      "{'publishing': datetime.date(2024, 6, 17), 'book_sales': 1}\n",
      "{'publishing': datetime.date(2023, 7, 24), 'book_sales': 1}\n",
      "{'publishing': datetime.date(2021, 6, 7), 'book_sales': 1}\n",
      "{'publishing': datetime.date(2021, 12, 15), 'book_sales': 1}\n",
      "{'publishing': datetime.date(2024, 2, 1), 'book_sales': 1}\n",
      "{'publishing': datetime.date(2024, 7, 2), 'book_sales': 1}\n",
      "{'publishing': datetime.date(2024, 2, 28), 'book_sales': 1}\n",
      "{'publishing': datetime.date(2023, 8, 18), 'book_sales': 1}\n",
      "{'publishing': datetime.date(2024, 2, 23), 'book_sales': 1}\n",
      "{'publishing': datetime.date(2024, 3, 28), 'book_sales': 1}\n",
      "{'publishing': datetime.date(2024, 7, 23), 'book_sales': 1}\n",
      "{'publishing': datetime.date(2024, 6, 30), 'book_sales': 1}\n",
      "{'publishing': datetime.date(2023, 8, 30), 'book_sales': 1}\n"
     ]
    }
   ],
   "source": [
    "# (15). 출판일별 출간된 책의 수를 계산하세요.\n",
    "sql = \"\"\"\n",
    "select Books.publishing, count(*) as book_sales\n",
    "from Books group by publishing\n",
    "order by book_sales DESC;\n",
    "\"\"\"\n",
    "results = excute_query(conn, sql)\n",
    "for row in results:\n",
    "    print(row)"
   ]
  },
  {
   "cell_type": "code",
   "execution_count": 17,
   "id": "d7d858d6dfb08bcf",
   "metadata": {
    "ExecuteTime": {
     "end_time": "2024-07-20T12:14:16.106042Z",
     "start_time": "2024-07-20T12:14:16.102563Z"
    }
   },
   "outputs": [
    {
     "name": "stdout",
     "output_type": "stream",
     "text": [
      "{'title': '너에게 들려주는 단단한 말', 'Book_price': Decimal('18000.000000')}\n",
      "{'title': '하루 한 장 나의 어휘력을 위한 필사 노트', 'Book_price': Decimal('23800.000000')}\n",
      "{'title': '불변의 법칙', 'Book_price': Decimal('25000.000000')}\n",
      "{'title': '죽이고 싶은 아이 2', 'Book_price': Decimal('14000.000000')}\n",
      "{'title': '언젠가 우리가 같은 별을 바라본다면', 'Book_price': Decimal('12000.000000')}\n",
      "{'title': '내 몸 혁명', 'Book_price': Decimal('19500.000000')}\n",
      "{'title': '신화의 숲', 'Book_price': Decimal('18000.000000')}\n",
      "{'title': '세이노의 가르침', 'Book_price': Decimal('7200.000000')}\n",
      "{'title': '2024 큰별쌤 최태성의 별별한국사 한국사능력검정시험 심화(1,2,3급) 상', 'Book_price': Decimal('16000.000000')}\n",
      "{'title': 'ETS 토익 정기시험 기출문제집 1000 Vol. 4 RC', 'Book_price': Decimal('19800.000000')}\n",
      "{'title': '2024 큰별쌤 최태성의 별별한국사 한국사능력검정시험 심화(1,2,3급) 하', 'Book_price': Decimal('15500.000000')}\n",
      "{'title': '그의 운명에 대한 아주 개인적인 생각', 'Book_price': Decimal('16800.000000')}\n",
      "{'title': 'ETS 토익 정기시험 기출문제집 1000 Vol. 4 LC', 'Book_price': Decimal('19800.000000')}\n",
      "{'title': '허송세월', 'Book_price': Decimal('18000.000000')}\n",
      "{'title': 'THE MONEY BOOK 더 머니북', 'Book_price': Decimal('22000.000000')}\n",
      "{'title': '마법천자문 63', 'Book_price': Decimal('15800.000000')}\n",
      "{'title': '나를 소모하지 않는 현명한 태도에 관하여', 'Book_price': Decimal('17800.000000')}\n",
      "{'title': '초역 부처의 말', 'Book_price': Decimal('17800.000000')}\n",
      "{'title': '나는 다정한 관찰자가 되기로 했다', 'Book_price': Decimal('17800.000000')}\n",
      "{'title': '모순', 'Book_price': Decimal('13000.000000')}\n",
      "{'title': '2024 큰별쌤 최태성의 별별한국사 기출 500제 한국사능력검정시험 심화 (1,2,3급)', 'Book_price': Decimal('19500.000000')}\n",
      "{'title': '돈의 심리학 (30만 부 기념 스페셜 에디션)', 'Book_price': Decimal('19800.000000')}\n",
      "{'title': '마흔에 읽는 쇼펜하우어 (200쇄 기념 확장판)', 'Book_price': Decimal('17000.000000')}\n",
      "{'title': '꽃길이 따로 있나, 내 삶이 꽃인 것을', 'Book_price': Decimal('16800.000000')}\n",
      "{'title': '나는 메트로폴리탄 미술관의 경비원입니다', 'Book_price': Decimal('17500.000000')}\n",
      "{'title': '빨모쌤의 라이브 영어회화', 'Book_price': Decimal('22000.000000')}\n",
      "{'title': '나의 돈키호테', 'Book_price': Decimal('18000.000000')}\n",
      "{'title': '주식투자 리스타트', 'Book_price': Decimal('18000.000000')}\n",
      "{'title': '부모의 어휘력', 'Book_price': Decimal('19000.000000')}\n",
      "{'title': '해커스 토익 기출 VOCA (보카)', 'Book_price': Decimal('12900.000000')}\n",
      "{'title': '죽이고 싶은 아이', 'Book_price': Decimal('12500.000000')}\n",
      "{'title': '귀명사 골목의 여름', 'Book_price': Decimal('16800.000000')}\n",
      "{'title': '나에게 들려주는 예쁜 말', 'Book_price': Decimal('16800.000000')}\n",
      "{'title': '츠츠츠츠', 'Book_price': Decimal('16800.000000')}\n",
      "{'title': '꽁꽁꽁 댕댕', 'Book_price': Decimal('15000.000000')}\n",
      "{'title': '흔한남매 이무기 2', 'Book_price': Decimal('15800.000000')}\n",
      "{'title': '여름을 한 입 베어 물었더니', 'Book_price': Decimal('12500.000000')}\n",
      "{'title': '감정 호텔', 'Book_price': Decimal('15000.000000')}\n",
      "{'title': '리틀 라이프 1', 'Book_price': Decimal('14800.000000')}\n",
      "{'title': '서로에게 들려주는 따뜻한 말', 'Book_price': Decimal('16800.000000')}\n",
      "{'title': '당신이 누군가를 죽였다', 'Book_price': Decimal('19800.000000')}\n",
      "{'title': '마녀와의 7일', 'Book_price': Decimal('18800.000000')}\n",
      "{'title': '무정형의 삶', 'Book_price': Decimal('20000.000000')}\n",
      "{'title': '2025 써니 행정법총론', 'Book_price': Decimal('42000.000000')}\n",
      "{'title': '해독 혁명', 'Book_price': Decimal('18500.000000')}\n",
      "{'title': '리틀 라이프 2', 'Book_price': Decimal('14800.000000')}\n",
      "{'title': '퓨처 셀프', 'Book_price': Decimal('19800.000000')}\n"
     ]
    }
   ],
   "source": [
    "# (16). 책 제목별 평균 가격을 조회하세요\n",
    "sql = \"\"\"\n",
    "select Books.title, AVG(Books.price) as Book_price\n",
    "from Books group by title;\n",
    "\"\"\"\n",
    "results = excute_query(conn, sql)\n",
    "for row in results:\n",
    "    print(row)"
   ]
  },
  {
   "cell_type": "code",
   "execution_count": 18,
   "id": "7d4fa4af77d1c2f9",
   "metadata": {
    "ExecuteTime": {
     "end_time": "2024-07-20T12:14:16.113379Z",
     "start_time": "2024-07-20T12:14:16.110343Z"
    }
   },
   "outputs": [
    {
     "name": "stdout",
     "output_type": "stream",
     "text": [
      "{'title': '세이노의 가르침', 'review': 2345}\n",
      "{'title': '모순', 'review': 1008}\n",
      "{'title': '해커스 토익 기출 VOCA (보카)', 'review': 943}\n",
      "{'title': '돈의 심리학 (30만 부 기념 스페셜 에디션)', 'review': 889}\n",
      "{'title': '마흔에 읽는 쇼펜하우어 (200쇄 기념 확장판)', 'review': 536}\n"
     ]
    }
   ],
   "source": [
    "# (17). 리뷰 수가 가장 많은 상위 5권의 책을 찾으세요.\n",
    "sql = \"\"\"\n",
    "select Books.title, Books.review from Books\n",
    "order by review desc\n",
    "limit 5;\n",
    "\"\"\"\n",
    "results = excute_query(conn, sql)\n",
    "for row in results:\n",
    "    print(row)\n"
   ]
  },
  {
   "cell_type": "code",
   "execution_count": 19,
   "id": "fc803112b29abb91",
   "metadata": {
    "ExecuteTime": {
     "end_time": "2024-07-20T12:14:16.158431Z",
     "start_time": "2024-07-20T12:14:16.134389Z"
    }
   },
   "outputs": [
    {
     "name": "stdout",
     "output_type": "stream",
     "text": [
      "{'ranking': 1, 'avg_review': Decimal('10.0000')}\n",
      "{'ranking': 2, 'avg_review': Decimal('201.0000')}\n",
      "{'ranking': 3, 'avg_review': Decimal('367.0000')}\n",
      "{'ranking': 4, 'avg_review': Decimal('45.0000')}\n",
      "{'ranking': 5, 'avg_review': Decimal('92.0000')}\n",
      "{'ranking': 6, 'avg_review': Decimal('73.0000')}\n",
      "{'ranking': 7, 'avg_review': Decimal('62.0000')}\n",
      "{'ranking': 8, 'avg_review': Decimal('2345.0000')}\n",
      "{'ranking': 9, 'avg_review': Decimal('76.0000')}\n",
      "{'ranking': 10, 'avg_review': Decimal('158.0000')}\n",
      "{'ranking': 11, 'avg_review': Decimal('64.0000')}\n",
      "{'ranking': 12, 'avg_review': Decimal('381.0000')}\n",
      "{'ranking': 13, 'avg_review': Decimal('138.0000')}\n",
      "{'ranking': 14, 'avg_review': Decimal('47.0000')}\n",
      "{'ranking': 15, 'avg_review': Decimal('75.0000')}\n",
      "{'ranking': 16, 'avg_review': Decimal('6.0000')}\n",
      "{'ranking': 17, 'avg_review': Decimal('161.0000')}\n",
      "{'ranking': 18, 'avg_review': Decimal('81.0000')}\n",
      "{'ranking': 19, 'avg_review': Decimal('141.0000')}\n",
      "{'ranking': 20, 'avg_review': Decimal('1008.0000')}\n",
      "{'ranking': 21, 'avg_review': Decimal('51.0000')}\n",
      "{'ranking': 22, 'avg_review': Decimal('889.0000')}\n",
      "{'ranking': 23, 'avg_review': Decimal('536.0000')}\n",
      "{'ranking': 24, 'avg_review': Decimal('124.0000')}\n",
      "{'ranking': 25, 'avg_review': Decimal('391.0000')}\n",
      "{'ranking': 26, 'avg_review': Decimal('205.0000')}\n",
      "{'ranking': 27, 'avg_review': Decimal('245.0000')}\n",
      "{'ranking': 28, 'avg_review': Decimal('67.0000')}\n",
      "{'ranking': 29, 'avg_review': Decimal('31.0000')}\n",
      "{'ranking': 30, 'avg_review': Decimal('943.0000')}\n",
      "{'ranking': 31, 'avg_review': Decimal('285.0000')}\n",
      "{'ranking': 32, 'avg_review': Decimal('23.0000')}\n",
      "{'ranking': 33, 'avg_review': Decimal('96.0000')}\n",
      "{'ranking': 34, 'avg_review': Decimal('21.0000')}\n",
      "{'ranking': 35, 'avg_review': Decimal('14.0000')}\n",
      "{'ranking': 36, 'avg_review': Decimal('19.0000')}\n",
      "{'ranking': 37, 'avg_review': Decimal('177.0000')}\n",
      "{'ranking': 38, 'avg_review': Decimal('38.0000')}\n",
      "{'ranking': 39, 'avg_review': Decimal('124.0000')}\n",
      "{'ranking': 40, 'avg_review': Decimal('16.0000')}\n",
      "{'ranking': 41, 'avg_review': Decimal('0.0000')}\n",
      "{'ranking': 43, 'avg_review': Decimal('26.0000')}\n",
      "{'ranking': 44, 'avg_review': Decimal('9.0000')}\n",
      "{'ranking': 45, 'avg_review': Decimal('21.0000')}\n",
      "{'ranking': 46, 'avg_review': Decimal('26.0000')}\n",
      "{'ranking': 47, 'avg_review': Decimal('64.0000')}\n",
      "{'ranking': 48, 'avg_review': Decimal('485.0000')}\n"
     ]
    }
   ],
   "source": [
    "# (18). 국내도서랭킹 별 평균 리뷰 수를 계산하세요.\n",
    "sql = \"\"\"\n",
    "select Books.ranking, AVG(Books.review) as avg_review \n",
    "from Books group by ranking;\n",
    "\"\"\"\n",
    "results = excute_query(conn, sql)\n",
    "for row in results:\n",
    "    print(row)"
   ]
  },
  {
   "cell_type": "code",
   "execution_count": 20,
   "id": "29b7dd6cea092d74",
   "metadata": {
    "ExecuteTime": {
     "end_time": "2024-07-20T12:14:16.200629Z",
     "start_time": "2024-07-20T12:14:16.180982Z"
    }
   },
   "outputs": [
    {
     "name": "stdout",
     "output_type": "stream",
     "text": [
      "{'title': '너에게 들려주는 단단한 말', 'rating': Decimal('10.0')}\n",
      "{'title': '하루 한 장 나의 어휘력을 위한 필사 노트', 'rating': Decimal('9.7')}\n",
      "{'title': '죽이고 싶은 아이 2', 'rating': Decimal('9.9')}\n",
      "{'title': '언젠가 우리가 같은 별을 바라본다면', 'rating': Decimal('9.8')}\n",
      "{'title': '내 몸 혁명', 'rating': Decimal('9.8')}\n",
      "{'title': '신화의 숲', 'rating': Decimal('10.8')}\n",
      "{'title': '2024 큰별쌤 최태성의 별별한국사 한국사능력검정시험 심화(1,2,3급) 상', 'rating': Decimal('9.7')}\n",
      "{'title': 'ETS 토익 정기시험 기출문제집 1000 Vol. 4 RC', 'rating': Decimal('9.6')}\n",
      "{'title': '2024 큰별쌤 최태성의 별별한국사 한국사능력검정시험 심화(1,2,3급) 하', 'rating': Decimal('10.0')}\n",
      "{'title': 'ETS 토익 정기시험 기출문제집 1000 Vol. 4 LC', 'rating': Decimal('9.8')}\n",
      "{'title': '마법천자문 63', 'rating': Decimal('10.0')}\n",
      "{'title': '초역 부처의 말', 'rating': Decimal('10.7')}\n",
      "{'title': '나는 다정한 관찰자가 되기로 했다', 'rating': Decimal('9.6')}\n",
      "{'title': '모순', 'rating': Decimal('9.6')}\n",
      "{'title': '2024 큰별쌤 최태성의 별별한국사 기출 500제 한국사능력검정시험 심화 (1,2,3급)', 'rating': Decimal('9.9')}\n",
      "{'title': '꽃길이 따로 있나, 내 삶이 꽃인 것을', 'rating': Decimal('10.6')}\n",
      "{'title': '빨모쌤의 라이브 영어회화', 'rating': Decimal('9.7')}\n",
      "{'title': '나의 돈키호테', 'rating': Decimal('9.7')}\n",
      "{'title': '부모의 어휘력', 'rating': Decimal('9.6')}\n",
      "{'title': '해커스 토익 기출 VOCA (보카)', 'rating': Decimal('9.5')}\n",
      "{'title': '죽이고 싶은 아이', 'rating': Decimal('9.5')}\n",
      "{'title': '귀명사 골목의 여름', 'rating': Decimal('9.9')}\n",
      "{'title': '나에게 들려주는 예쁜 말', 'rating': Decimal('9.8')}\n",
      "{'title': '츠츠츠츠', 'rating': Decimal('9.9')}\n",
      "{'title': '꽁꽁꽁 댕댕', 'rating': Decimal('9.9')}\n",
      "{'title': '흔한남매 이무기 2', 'rating': Decimal('9.9')}\n",
      "{'title': '여름을 한 입 베어 물었더니', 'rating': Decimal('9.7')}\n",
      "{'title': '감정 호텔', 'rating': Decimal('9.9')}\n",
      "{'title': '서로에게 들려주는 따뜻한 말', 'rating': Decimal('10.0')}\n",
      "{'title': '마녀와의 7일', 'rating': Decimal('9.5')}\n",
      "{'title': '무정형의 삶', 'rating': Decimal('10.0')}\n",
      "{'title': '2025 써니 행정법총론', 'rating': Decimal('9.8')}\n",
      "{'title': '해독 혁명', 'rating': Decimal('10.0')}\n",
      "{'title': '리틀 라이프 2', 'rating': Decimal('9.8')}\n"
     ]
    }
   ],
   "source": [
    "# (19). 평균 평점보다 높은 평점을 받은 책들을 조회하세요.\n",
    "sql = \"\"\"\n",
    "select Books.title, Books.rating\n",
    "from Books\n",
    "where rating > (select AVG(rating) from Books)\n",
    "\"\"\"\n",
    "results = excute_query(conn, sql)\n",
    "for row in results:\n",
    "    print(row)"
   ]
  },
  {
   "cell_type": "code",
   "execution_count": 21,
   "id": "caf45f288d020f2a",
   "metadata": {
    "ExecuteTime": {
     "end_time": "2024-07-20T12:14:16.222167Z",
     "start_time": "2024-07-20T12:14:16.213738Z"
    }
   },
   "outputs": [
    {
     "name": "stdout",
     "output_type": "stream",
     "text": [
      "{'title': '너에게 들려주는 단단한 말', 'price': Decimal('18000.00')}\n",
      "{'title': '하루 한 장 나의 어휘력을 위한 필사 노트', 'price': Decimal('23800.00')}\n",
      "{'title': '불변의 법칙', 'price': Decimal('25000.00')}\n",
      "{'title': '내 몸 혁명', 'price': Decimal('19500.00')}\n",
      "{'title': '신화의 숲', 'price': Decimal('18000.00')}\n",
      "{'title': 'ETS 토익 정기시험 기출문제집 1000 Vol. 4 RC', 'price': Decimal('19800.00')}\n",
      "{'title': 'ETS 토익 정기시험 기출문제집 1000 Vol. 4 LC', 'price': Decimal('19800.00')}\n",
      "{'title': '허송세월', 'price': Decimal('18000.00')}\n",
      "{'title': 'THE MONEY BOOK 더 머니북', 'price': Decimal('22000.00')}\n",
      "{'title': '나를 소모하지 않는 현명한 태도에 관하여', 'price': Decimal('17800.00')}\n",
      "{'title': '초역 부처의 말', 'price': Decimal('17800.00')}\n",
      "{'title': '나는 다정한 관찰자가 되기로 했다', 'price': Decimal('17800.00')}\n",
      "{'title': '2024 큰별쌤 최태성의 별별한국사 기출 500제 한국사능력검정시험 심화 (1,2,3급)', 'price': Decimal('19500.00')}\n",
      "{'title': '돈의 심리학 (30만 부 기념 스페셜 에디션)', 'price': Decimal('19800.00')}\n",
      "{'title': '빨모쌤의 라이브 영어회화', 'price': Decimal('22000.00')}\n",
      "{'title': '나의 돈키호테', 'price': Decimal('18000.00')}\n",
      "{'title': '주식투자 리스타트', 'price': Decimal('18000.00')}\n",
      "{'title': '부모의 어휘력', 'price': Decimal('19000.00')}\n",
      "{'title': '당신이 누군가를 죽였다', 'price': Decimal('19800.00')}\n",
      "{'title': '마녀와의 7일', 'price': Decimal('18800.00')}\n",
      "{'title': '무정형의 삶', 'price': Decimal('20000.00')}\n",
      "{'title': '2025 써니 행정법총론', 'price': Decimal('42000.00')}\n",
      "{'title': '해독 혁명', 'price': Decimal('18500.00')}\n",
      "{'title': '퓨처 셀프', 'price': Decimal('19800.00')}\n"
     ]
    }
   ],
   "source": [
    "# (20). 평균 가격보다 비싼 책들의 제목과 가격을 조회하세요.\n",
    "sql = \"\"\"\n",
    "select Books.title, Books.price\n",
    "from Books\n",
    "where price > (select AVG(price) from Books)\n",
    "\"\"\"\n",
    "results = excute_query(conn, sql)\n",
    "for row in results:\n",
    "    print(row)"
   ]
  },
  {
   "cell_type": "code",
   "execution_count": 22,
   "id": "67d321b55b560d0d",
   "metadata": {
    "ExecuteTime": {
     "end_time": "2024-07-20T12:18:16.941239Z",
     "start_time": "2024-07-20T12:18:16.907488Z"
    }
   },
   "outputs": [
    {
     "name": "stdout",
     "output_type": "stream",
     "text": [
      "{'title': '너에게 들려주는 단단한 말', 'sales': 224358}\n",
      "{'title': '죽이고 싶은 아이 2', 'sales': 176046}\n",
      "{'title': '언젠가 우리가 같은 별을 바라본다면', 'sales': 101274}\n",
      "{'title': '내 몸 혁명', 'sales': 221703}\n",
      "{'title': '신화의 숲', 'sales': 178029}\n",
      "{'title': '허송세월', 'sales': 223002}\n",
      "{'title': 'THE MONEY BOOK 더 머니북', 'sales': 210801}\n",
      "{'title': '마법천자문 63', 'sales': 38850}\n",
      "{'title': '초역 부처의 말', 'sales': 181695}\n",
      "{'title': '나는 다정한 관찰자가 되기로 했다', 'sales': 226023}\n",
      "{'title': '2024 큰별쌤 최태성의 별별한국사 기출 500제 한국사능력검정시험 심화 (1,2,3급)', 'sales': 189687}\n",
      "{'title': '꽃길이 따로 있나, 내 삶이 꽃인 것을', 'sales': 217302}\n",
      "{'title': '빨모쌤의 라이브 영어회화', 'sales': 214782}\n",
      "{'title': '나의 돈키호테', 'sales': 160611}\n",
      "{'title': '주식투자 리스타트', 'sales': 30738}\n",
      "{'title': '부모의 어휘력', 'sales': 81594}\n",
      "{'title': '죽이고 싶은 아이', 'sales': 125400}\n",
      "{'title': '귀명사 골목의 여름', 'sales': 41994}\n",
      "{'title': '나에게 들려주는 예쁜 말', 'sales': 189312}\n",
      "{'title': '츠츠츠츠', 'sales': 71823}\n",
      "{'title': '꽁꽁꽁 댕댕', 'sales': 30483}\n",
      "{'title': '흔한남매 이무기 2', 'sales': 32475}\n",
      "{'title': '여름을 한 입 베어 물었더니', 'sales': 157914}\n",
      "{'title': '감정 호텔', 'sales': 69864}\n",
      "{'title': '리틀 라이프 1', 'sales': 212178}\n",
      "{'title': '서로에게 들려주는 따뜻한 말', 'sales': 70386}\n",
      "{'title': '당신이 누군가를 죽였다', 'sales': 24852}\n",
      "{'title': '마녀와의 7일', 'sales': 72534}\n",
      "{'title': '무정형의 삶', 'sales': 32271}\n",
      "{'title': '2025 써니 행정법총론', 'sales': 40473}\n",
      "{'title': '해독 혁명', 'sales': 77001}\n",
      "{'title': '리틀 라이프 2', 'sales': 179589}\n"
     ]
    }
   ],
   "source": [
    "# (21). 평균 판매지수보다 낮은 판매지수를 가진 책들을 조회하세요.\n",
    "sql = \"\"\"\n",
    "select Books.title, Books.sales\n",
    "from Books\n",
    "where sales < (select AVG(sales) from Books)\n",
    "\"\"\"\n",
    "results = excute_query(conn, sql)\n",
    "for row in results:\n",
    "    print(row)"
   ]
  },
  {
   "cell_type": "code",
   "execution_count": 23,
   "id": "44fa9f67c56db15b",
   "metadata": {
    "ExecuteTime": {
     "end_time": "2024-07-20T12:27:22.449420Z",
     "start_time": "2024-07-20T12:27:22.440273Z"
    }
   },
   "outputs": [
    {
     "name": "stdout",
     "output_type": "stream",
     "text": [
      "[{'author': '이꽃님 저', 'title': '죽이고 싶은 아이 2', 'publishing': datetime.date(2024, 7, 1)}]\n"
     ]
    }
   ],
   "source": [
    "# (22). 가장 많이 출판된 저자의 책들 중 최근에 출판된 책을 조회하세요.\n",
    "sql = \"\"\"\n",
    "select Books.author, Books.title, Books.publishing\n",
    "from Books\n",
    "where author = (select author from Books group by author order by COUNT(*) DESC limit 1)\n",
    "order by publishing DESC limit 1\n",
    "\"\"\"\n",
    "print(excute_query(conn, sql))"
   ]
  },
  {
   "cell_type": "code",
   "execution_count": 24,
   "id": "7bf756f45c7747f8",
   "metadata": {
    "ExecuteTime": {
     "end_time": "2024-07-20T12:42:50.558110Z",
     "start_time": "2024-07-20T12:42:50.515550Z"
    }
   },
   "outputs": [],
   "source": [
    "# (23). 특정 책의 가격을 업데이트하세요.\n",
    "sql = \"\"\"\n",
    "update Books\n",
    "set price = 100\n",
    "where bookID = 2\n",
    "\"\"\"\n",
    "excute_query(conn, sql)"
   ]
  },
  {
   "cell_type": "code",
   "execution_count": 25,
   "id": "9dc45aa96104fd8b",
   "metadata": {
    "ExecuteTime": {
     "end_time": "2024-07-20T12:47:01.106653Z",
     "start_time": "2024-07-20T12:47:01.096822Z"
    }
   },
   "outputs": [],
   "source": [
    "# (24). 특정 저자의 책 제목을 변경하세요.\n",
    "sql = \"\"\"\n",
    "update Books\n",
    "set title = \"마녀와의 100일\"\n",
    "where author = \"히가시노 게이고 저/양윤옥 역\"\n",
    "\"\"\"\n",
    "excute_query(conn, sql)"
   ]
  },
  {
   "cell_type": "code",
   "execution_count": 26,
   "id": "4f437d9cf7e6e8d4",
   "metadata": {
    "ExecuteTime": {
     "end_time": "2024-07-20T13:05:51.215038Z",
     "start_time": "2024-07-20T13:05:51.209767Z"
    }
   },
   "outputs": [],
   "source": [
    "# (25). 판매지수가 가장 낮은 책을 데이터베이스에서 삭제하세요.\n",
    "# 기존 방법의 경우 한 쿼리에서 Books 테이블을 여러번 참조해 불가능해 직접 입력했음 \n",
    "sql= \"\"\"\n",
    "delete\n",
    "from Books\n",
    "where sales = 20310;\n",
    "\"\"\"\n",
    "excute_query(conn, sql)"
   ]
  },
  {
   "cell_type": "code",
   "execution_count": 27,
   "id": "3633858aa50053b0",
   "metadata": {},
   "outputs": [],
   "source": [
    "# (26). 특정 출판사가 출판한 모든 책의 평점을 1점 증가시키세요.\n",
    "sql = \"\"\"\n",
    "update Books\n",
    "set rating = rating + 1\n",
    "where publisher = \"포레스트북스\";\n",
    "\"\"\"\n",
    "excute_query(conn, sql)"
   ]
  }
 ],
 "metadata": {
  "kernelspec": {
   "display_name": "Python 3",
   "language": "python",
   "name": "python3"
  },
  "language_info": {
   "codemirror_mode": {
    "name": "ipython",
    "version": 3
   },
   "file_extension": ".py",
   "mimetype": "text/x-python",
   "name": "python",
   "nbconvert_exporter": "python",
   "pygments_lexer": "ipython3",
   "version": "3.9.10"
  }
 },
 "nbformat": 4,
 "nbformat_minor": 5
}
