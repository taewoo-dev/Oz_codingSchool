{
 "cells": [
  {
   "cell_type": "markdown",
   "metadata": {},
   "source": [
    "문자열 리스트를 받아, 각 문자열의 길이를 출력하는 함수 print_lengths를 작성하세요."
   ]
  },
  {
   "cell_type": "code",
   "execution_count": 4,
   "metadata": {},
   "outputs": [
    {
     "name": "stdout",
     "output_type": "stream",
     "text": [
      "해당 문자열의 길이는 5입니다\n",
      "해당 문자열의 길이는 2입니다\n",
      "해당 문자열의 길이는 12입니다\n",
      "해당 문자열의 길이는 17입니다\n"
     ]
    }
   ],
   "source": [
    "def print_lengths(strings : list[str]) -> None:\n",
    "    for string in strings:\n",
    "        print(f\"해당 문자열의 길이는 {len(string)}입니다\")\n",
    "\n",
    "str_list = [\n",
    "    \"hello\",\n",
    "    \"hi\",\n",
    "    \"how are you?\",\n",
    "    \"nice too meet you\"\n",
    "]\n",
    "\n",
    "print_lengths(str_list)"
   ]
  }
 ],
 "metadata": {
  "kernelspec": {
   "display_name": "Python 3",
   "language": "python",
   "name": "python3"
  },
  "language_info": {
   "codemirror_mode": {
    "name": "ipython",
    "version": 3
   },
   "file_extension": ".py",
   "mimetype": "text/x-python",
   "name": "python",
   "nbconvert_exporter": "python",
   "pygments_lexer": "ipython3",
   "version": "3.9.10"
  }
 },
 "nbformat": 4,
 "nbformat_minor": 2
}
