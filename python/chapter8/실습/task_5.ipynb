{
 "cells": [
  {
   "cell_type": "markdown",
   "metadata": {},
   "source": [
    "[문제]\n",
    "\n",
    "'Account' 클래스를 작성하세요. \n",
    "\n",
    "이 클래스는 소유자(owner)와 잔액(balance)을 속성으로 가지며, 잔액은 프라이빗 변수로 선언합니다. \n",
    "\n",
    "'deposit'와 'withdraw' 두 개의 메소드를 통해 잔액을 조작할 수 있도록 하세요. \n",
    "\n",
    "이 때, 잔액은 음수가 될 수 없도록 체크해야 합니다. 'Account' 객체를 생성하고,<br>\n",
    "입금 및 출금 작업을 시뮬레이션한 후, 최종 잔액을 출력하세요."
   ]
  },
  {
   "cell_type": "code",
   "execution_count": 17,
   "metadata": {},
   "outputs": [
    {
     "name": "stdout",
     "output_type": "stream",
     "text": [
      "현재 홍길동님의 통장 잔액은 10000원입니다\n",
      "현재 홍길동님의 통장 잔액은 5000원입니다\n",
      "현재 홍길동님의 통장 잔액은 0원입니다\n",
      "현재 홍길동님의 통장 잔액은 10000원입니다\n"
     ]
    }
   ],
   "source": [
    "class Account:\n",
    "    '''\n",
    "    이 클래스는 소유자와 잔액을 속성으로 가지며 deposit,withdraw 매서드로 예금, 출금을 합니다\n",
    "    owner : name\n",
    "    '''\n",
    "\n",
    "\n",
    "    def __init__(self,owner : str) -> None:\n",
    "\n",
    "        self._owner = owner\n",
    "        self.__balance = 0\n",
    "\n",
    "    def deposit(self,balance : int) -> None:\n",
    "        '''\n",
    "        이 매서드는 프라이빗 변수인 balance에 접근하여 예금합니다\n",
    "        '''\n",
    "        self.__balance += max(balance,0)\n",
    "        self.display()\n",
    "        \n",
    "\n",
    "    def withdraw(self,balance : int) -> None:\n",
    "        '''\n",
    "        이 매서드는 프라이빗 변수인 balance에 접근하여 출금합니다\n",
    "        '''\n",
    "        self.__balance -= min(balance,self.__balance)\n",
    "        self.display()\n",
    "\n",
    "    def display(self) -> None:\n",
    "        \n",
    "        print(f\"현재 {self._owner}님의 통장 잔액은 {self.__balance}원입니다\")\n",
    "\n",
    "\n",
    "account = Account(\"홍길동\")\n",
    "\n",
    "account.deposit(10000)\n",
    "account.withdraw(5000)\n",
    "\n",
    "account.withdraw(10000)\n",
    "account.deposit(10000)\n",
    "\n",
    "\n"
   ]
  }
 ],
 "metadata": {
  "kernelspec": {
   "display_name": "Python 3",
   "language": "python",
   "name": "python3"
  },
  "language_info": {
   "codemirror_mode": {
    "name": "ipython",
    "version": 3
   },
   "file_extension": ".py",
   "mimetype": "text/x-python",
   "name": "python",
   "nbconvert_exporter": "python",
   "pygments_lexer": "ipython3",
   "version": "3.9.10"
  }
 },
 "nbformat": 4,
 "nbformat_minor": 2
}
