{
 "cells": [
  {
   "cell_type": "markdown",
   "metadata": {},
   "source": [
    "[문제] \n",
    "\n",
    "'Employee' 클래스를 선언하세요. \n",
    "\n",
    "이 클래스는 월급인상률을 의미하는 클래스 변수로 'raise_amount'를 갖고 있으며, 기본값은 1.04입니다. 다음 급여는 기본 급여에 월급인상률을 곱한 값으로 결정합니다.\n",
    "\n",
    "또한, 각 직원의 이름(name)과 급여(salary)를 속성으로 가지며, 'apply_raise' 메소드를 통해 급여에 'raise_amount'를 적용할 수 있어야 합니다.\n",
    "\n",
    "'Employee' 클래스의 객체 두 개를 생성하고, 한 객체에만 'raise_amount'를 변경한 후, 두 객체의 급여를 증가시켜보세요.<br>\n",
    "그리고 각 객체의 새로운 급여를 출력하세요."
   ]
  },
  {
   "cell_type": "code",
   "execution_count": 10,
   "metadata": {},
   "outputs": [
    {
     "name": "stdout",
     "output_type": "stream",
     "text": [
      "1040000.0\n",
      "1100000.0\n"
     ]
    }
   ],
   "source": [
    "class Employee:\n",
    "\n",
    "    '''\n",
    "    이 클래스는 직원의 이름과 급여를 속성으로 가지며, apply_raise 메소드는 급여를 인상합니다\n",
    "    \n",
    "    args :\n",
    "        name (str) : 첫번째 매개변수\n",
    "        salary (int) : 두번째 매개변수\n",
    "    \n",
    "    '''\n",
    "\n",
    "    raise_amount = 1.04\n",
    "\n",
    "\n",
    "    def __init__(self, name : str, salary : int) -> None:\n",
    "        \n",
    "        self._name = name\n",
    "        self._salary = salary\n",
    "\n",
    "    def apply_raise(self):\n",
    "\n",
    "        '''\n",
    "        이 매서드는 기본 급여에 월급 인상률 곱합니다\n",
    "        '''\n",
    "        \n",
    "        self._salary *= Employee.raise_amount\n",
    "\n",
    "employee1 = Employee(\"홍길동\",1000000)\n",
    "employee2 = Employee(\"고길동\",1000000)\n",
    "\n",
    "employee1.apply_raise()\n",
    "\n",
    "Employee.raise_amount = 1.1\n",
    "employee2.apply_raise()\n",
    "\n",
    "print(employee1._salary)\n",
    "print(employee2._salary)\n",
    "\n",
    "\n"
   ]
  }
 ],
 "metadata": {
  "kernelspec": {
   "display_name": "Python 3",
   "language": "python",
   "name": "python3"
  },
  "language_info": {
   "codemirror_mode": {
    "name": "ipython",
    "version": 3
   },
   "file_extension": ".py",
   "mimetype": "text/x-python",
   "name": "python",
   "nbconvert_exporter": "python",
   "pygments_lexer": "ipython3",
   "version": "3.9.10"
  }
 },
 "nbformat": 4,
 "nbformat_minor": 2
}
