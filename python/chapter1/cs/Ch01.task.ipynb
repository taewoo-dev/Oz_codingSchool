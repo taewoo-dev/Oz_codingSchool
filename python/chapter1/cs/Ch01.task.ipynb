{
 "cells": [
  {
   "cell_type": "markdown",
   "metadata": {},
   "source": [
    "<span style=\"font-size:100%\">\n",
    "\n",
    "수업은 모두 열심히 들으셨나요?\n",
    "\n",
    "간혹 강의에서 언급되지 않은 내용이 문제로 나올 수 있습니다.<br>\n",
    "그럴땐 강의 내용 외 문제는 구글링을 통해 해결해주세요<br></span>\n",
    "<span style=\"font-size:80%\">\n",
    "(구글링 또한 개발자가 갖쳐야할 역량 중에 하나랍니다 😊)\n",
    "</span>\n",
    "\n",
    "---"
   ]
  },
  {
   "cell_type": "markdown",
   "metadata": {},
   "source": [
    "<span style=\"font-size:80%\">[문제1]<br><br></span>\n",
    "```인터프리트 방식에 대해 설명하고 2개 이상의 장점을 설명해주세요```"
   ]
  },
  {
   "cell_type": "markdown",
   "metadata": {},
   "source": [
    "<span style=\"color:red\">답변</span>"
   ]
  },
  {
   "cell_type": "markdown",
   "metadata": {},
   "source": [
    "인터프리트 방식은 코드를 한줄씩 번역해가며 실행하기 떄문에 컴퓨터의 반응을 쉽게 확인할 수 있다.\n",
    "프로그램의 코드가 짧을 경우 컴파일 방식과 비교했을 때 동작 속도도 큰 차이가 없다. "
   ]
  },
  {
   "cell_type": "markdown",
   "metadata": {},
   "source": [
    "---"
   ]
  },
  {
   "cell_type": "markdown",
   "metadata": {},
   "source": [
    "<span style=\"font-size:80%\">[문제2]<br><br></span>\n",
    "```동적 타입 방식의 장점과 단점을 간략히 설명해주세요```"
   ]
  },
  {
   "cell_type": "markdown",
   "metadata": {},
   "source": [
    "<span style=\"color:red\">답변</span>"
   ]
  },
  {
   "cell_type": "markdown",
   "metadata": {},
   "source": [
    "동적 타입 방식의 경우 변수를 선언할 때 자료형을 제한하지 않아서 유연하게 사용할 수 있으며 형변환이 자유롭게 일어난다. \n",
    "하지만 프로그램이 커질 경우 이러한 자유성 때문에 데이터의 종류에 대한 버그가 많이 발생한다."
   ]
  },
  {
   "cell_type": "markdown",
   "metadata": {},
   "source": [
    "---"
   ]
  },
  {
   "cell_type": "markdown",
   "metadata": {},
   "source": [
    "<span style=\"font-size:80%\">[문제3]<br><br></span>\n",
    "```Python으로 정적타입 방식의 코드를 작성할 수 있는 방법을 구글링을 통해 검색 후 설명해주세요```"
   ]
  },
  {
   "cell_type": "markdown",
   "metadata": {},
   "source": [
    "<span style=\"color:red\">답변</span>"
   ]
  },
  {
   "cell_type": "markdown",
   "metadata": {},
   "source": [
    "파이썬 기본 패키지 중 typing 패키지를 import해와서 정적 타입의 방식으로 코드를 작성한다.\n",
    "한가지 예시로 Type Hinting 방법이 있다. \n",
    "List[str] : [\"a\",\"b\",\"c\"] 와 같이 리스트의 요소들이 문자열 데이터로 만들어졌음을 표시한다. "
   ]
  },
  {
   "cell_type": "markdown",
   "metadata": {},
   "source": [
    "---"
   ]
  },
  {
   "cell_type": "markdown",
   "metadata": {},
   "source": [
    "<span style=\"font-size:80%\">[문제4]<br><br></span>\n",
    "```프로세스와 스레드의 차이점을 설명해주세요```"
   ]
  },
  {
   "cell_type": "markdown",
   "metadata": {},
   "source": [
    "<span style=\"color:red\">답변</span>"
   ]
  },
  {
   "cell_type": "markdown",
   "metadata": {},
   "source": [
    "프로세스는 실행되고 있는 프로그램을 의미한다. 프로그램이란 컴퓨터가 할 일의 목록을 뜻하는데, 컴퓨터의 운영체제가 여러 다른 프로그램을 동시에 실행할 때 컴퓨터의 자원(cpu시간, 메모리)을 효율적으로 관리하기 위해서 프로세스라는 단위를 사용한다. 프로세스는 cpu로부터 메모리 자원을 할당 받으면 코드 데이터 스택 힙이라는 데이터 공간을 할당받는다.\n",
    "스레드란 이 프로세스 내에서 실행되는 여러 흐름의 단위를 말한다. 주요한 특징은 각각의 스레드는 프로세스 내에서 각각의 스택을 할당받고 코드 데이터 힙 영역은 공유한다.\n",
    "프로세스와 스레드의 차이는 프로세스는 서로 독립적으로 구분되어있어 다른 프로세스의 변수나 자료구조에 접근할 수 없지만, 스레드는 한 프로세스 내에서 같이 공유하는 영역이 있기 때문에 데이터의 교환이 가능하다. 프로세스의 경우에도 IPC를 이용하여 다른 프로세스와 통신을 하며 데이터의 교환이 가능하지만 상당히 복잡한 과정이 생긴다.  "
   ]
  },
  {
   "cell_type": "markdown",
   "metadata": {},
   "source": [
    "---"
   ]
  },
  {
   "cell_type": "markdown",
   "metadata": {},
   "source": [
    "<span style=\"font-size:80%\">[문제5]<br><br></span>\n",
    "```Python 2버전대와 3버전대의 차이를 성명해주세요```"
   ]
  },
  {
   "cell_type": "markdown",
   "metadata": {},
   "source": [
    "<span style=\"color:red\">답변</span>"
   ]
  },
  {
   "cell_type": "markdown",
   "metadata": {},
   "source": [
    "1. Python 3버전에서는 유니코드를 지원하여 2버전대와 다르게 u접두사나 unicode() 생성자 매서드를 사용할 필요가 없다\n",
    "2. 함수의 인자(argument)를 받을 때 더 엄격한 기준을 사용한다. 위치인자를 우선으로 받으며 키워드 인자를 사용하면 그뒤로는 위치인자를 사용해 인자를 받을 수 없다\n",
    "3. \"/\" 기호를 사용한 나눗셈의 결과가 Python 버전 2점대에서는 몫만 반환되었지만 버전 3점대에서는 실수형 나눗셈을 실행하여 소숫점자리의 숫자까지 반환한다"
   ]
  },
  {
   "cell_type": "markdown",
   "metadata": {},
   "source": [
    "---"
   ]
  },
  {
   "cell_type": "markdown",
   "metadata": {},
   "source": [
    "<span style=\"font-size:80%\">[문제6]<br><br></span>\n",
    "```Python에서 메모리 관리는 어떻게 이루어지는지 설명해주세요```"
   ]
  },
  {
   "cell_type": "markdown",
   "metadata": {},
   "source": [
    "<span style=\"color:red\">답변</span>"
   ]
  },
  {
   "cell_type": "markdown",
   "metadata": {},
   "source": [
    "파이썬에서는 일반적으로 2가지 방법을 이용해 메모리 관리를 한다.\n",
    "1. reference counting 방법 : 어떤 변수가 객체(숫자,문자열,리스트,~~~ 등등)을 참조하고 있을 때는 메모리를 할당하고 있는다. 하지만 객체를 참조하는 변수나 자료구조가 없다면 파이썬 인터프리터는 내부에서 그 객체에 할당된 메모리를 해제한다.\n",
    "2. garbage collection : 서로가 서로를 참조하는 순환참조와 같이 복잡한 상황이 발생하는 경우가 있다. 이런 경우 위 방법으로는 해결이 어려워 파이썬 인터프리터에 내장된 가비지 콜렉터가 여러 규칙을 가지고 사용하지 않는 메모리를 해제한다.\n",
    "3. 또 파일 입출력 or 네트워크의 연결과 같은 외부 리소스를 사용하는 경우에는 메모리의 해제가 중요하기에 with 문법을 사용하여 할당과 해제를 블럭화한다."
   ]
  }
 ],
 "metadata": {
  "language_info": {
   "name": "python"
  }
 },
 "nbformat": 4,
 "nbformat_minor": 2
}
