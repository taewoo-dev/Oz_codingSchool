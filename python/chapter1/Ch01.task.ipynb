{
 "cells": [
  {
   "cell_type": "markdown",
   "metadata": {},
   "source": [
    "<span style=\"font-size:100%\">\n",
    "\n",
    "수업은 모두 열심히 들으셨나요?\n",
    "\n",
    "간혹 강의에서 언급되지 않은 내용이 문제로 나올 수 있습니다.<br>\n",
    "그럴땐 강의 내용 외 문제는 구글링을 통해 해결해주세요<br></span>\n",
    "<span style=\"font-size:80%\">\n",
    "(구글링 또한 개발자가 갖쳐야할 역량 중에 하나랍니다 😊)\n",
    "</span>\n",
    "\n",
    "---"
   ]
  },
  {
   "cell_type": "markdown",
   "metadata": {},
   "source": [
    "<span style=\"font-size:80%\">[문제1]<br><br></span>\n",
    "```인터프리트 방식에 대해 설명하고 2개 이상의 장점을 설명해주세요```"
   ]
  },
  {
   "cell_type": "markdown",
   "metadata": {},
   "source": [
    "<span style=\"color:red\">답변</span>"
   ]
  },
  {
   "cell_type": "markdown",
   "metadata": {},
   "source": [
    "인터프리트 방식은 코드를 한줄씩 번역해가며 실행하기 떄문에 컴퓨터의 반응을 쉽게 확인할 수 있다.\n",
    "프로그램의 코드가 짧을 경우 컴파일 방식과 비교했을 때 동작 속도도 큰 차이가 없다. "
   ]
  },
  {
   "cell_type": "markdown",
   "metadata": {},
   "source": [
    "---"
   ]
  },
  {
   "cell_type": "markdown",
   "metadata": {},
   "source": [
    "<span style=\"font-size:80%\">[문제2]<br><br></span>\n",
    "```동적 타입 방식의 장점과 단점을 간략히 설명해주세요```"
   ]
  },
  {
   "cell_type": "markdown",
   "metadata": {},
   "source": [
    "<span style=\"color:red\">답변</span>"
   ]
  },
  {
   "cell_type": "markdown",
   "metadata": {},
   "source": [
    "동적 타입 방식의 경우 변수를 선언할 때 자료형을 제한하지 않아서 유연하게 사용할 수 있으며 형변환이 자유롭게 일어난다. \n",
    "하지만 프로그램이 커질 경우 이러한 자유성 때문에 오히려 오류가 많이 발생한다."
   ]
  },
  {
   "cell_type": "markdown",
   "metadata": {},
   "source": [
    "---"
   ]
  },
  {
   "cell_type": "markdown",
   "metadata": {},
   "source": [
    "<span style=\"font-size:80%\">[문제3]<br><br></span>\n",
    "```Python으로 정적타입 방식의 코드를 작성할 수 있는 방법을 구글링을 통해 검색 후 설명해주세요```"
   ]
  },
  {
   "cell_type": "markdown",
   "metadata": {},
   "source": [
    "<span style=\"color:red\">답변</span>"
   ]
  },
  {
   "cell_type": "markdown",
   "metadata": {},
   "source": [
    "파이썬 기본 패키지 중 typing 패키지를 import해와서 정적 타입의 방식으로 코드를 작성한다.\n",
    "한가지 예시로 Type Hinting 방법이 있다. \n",
    "List[str] : [\"a\",\"b\",\"c\"] 와 같이 리스트의 요소들이 문자열 데이터로 만들어졌음을 표시한다. "
   ]
  },
  {
   "cell_type": "markdown",
   "metadata": {},
   "source": [
    "---"
   ]
  },
  {
   "cell_type": "markdown",
   "metadata": {},
   "source": [
    "<span style=\"font-size:80%\">[문제4]<br><br></span>\n",
    "```프로세스와 스레드의 차이점을 설명해주세요```"
   ]
  },
  {
   "cell_type": "markdown",
   "metadata": {},
   "source": [
    "<span style=\"color:red\">답변</span>"
   ]
  },
  {
   "cell_type": "markdown",
   "metadata": {},
   "source": []
  },
  {
   "cell_type": "markdown",
   "metadata": {},
   "source": [
    "---"
   ]
  },
  {
   "cell_type": "markdown",
   "metadata": {},
   "source": [
    "<span style=\"font-size:80%\">[문제5]<br><br></span>\n",
    "```Python 2버전대와 3버전대의 차이를 성명해주세요```"
   ]
  },
  {
   "cell_type": "markdown",
   "metadata": {},
   "source": [
    "<span style=\"color:red\">답변</span>"
   ]
  },
  {
   "cell_type": "markdown",
   "metadata": {},
   "source": []
  },
  {
   "cell_type": "markdown",
   "metadata": {},
   "source": [
    "---"
   ]
  },
  {
   "cell_type": "markdown",
   "metadata": {},
   "source": [
    "<span style=\"font-size:80%\">[문제6]<br><br></span>\n",
    "```Python에서 메모리 관리는 어떻게 이루어지는지 설명해주세요```"
   ]
  },
  {
   "cell_type": "markdown",
   "metadata": {},
   "source": [
    "<span style=\"color:red\">답변</span>"
   ]
  },
  {
   "cell_type": "markdown",
   "metadata": {},
   "source": []
  }
 ],
 "metadata": {
  "language_info": {
   "name": "python"
  }
 },
 "nbformat": 4,
 "nbformat_minor": 2
}
