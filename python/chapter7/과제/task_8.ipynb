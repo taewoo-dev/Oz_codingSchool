{
 "cells": [
  {
   "cell_type": "markdown",
   "metadata": {},
   "source": [
    "여러분이 자주 사용하는 수학적 연산<br>\n",
    "(예: 삼각형 넓이, 원의 넓이, 직육면체의 넓이)을 수행하는 함수들을 포함하는 mymath.py라는 이름의 모듈을 만드세요. \n",
    "\n",
    "이 모듈을 사용하여 작성된 함수들을 실제로 임포트하고 사용하는 간단한 프로그램을 작성하세요."
   ]
  },
  {
   "cell_type": "code",
   "execution_count": null,
   "metadata": {},
   "outputs": [],
   "source": [
    "## mymath.py 모듈의 함수들\n",
    "\n",
    "# import math\n",
    "\n",
    "# def triangle_area(base:float, height:float) -> float:\n",
    "#     area = base*height/2\n",
    "#     return area\n",
    "# def circle_area(radius:float) -> float:\n",
    "#     area = math.pi*radius*radius\n",
    "#     return area\n",
    "\n",
    "# def rectangle_area(width:float, height:float) -> float:\n",
    "#     area = width*height\n",
    "#     return area\n"
   ]
  },
  {
   "cell_type": "code",
   "execution_count": 4,
   "metadata": {},
   "outputs": [
    {
     "name": "stdout",
     "output_type": "stream",
     "text": [
      "15.0\n",
      "78.53981633974483\n",
      "50\n"
     ]
    }
   ],
   "source": [
    "from mymath import triangle_area,circle_area,rectangle_area\n",
    "\n",
    "print(triangle_area(3,10))\n",
    "print(circle_area(5))\n",
    "print(rectangle_area(5,10))\n"
   ]
  }
 ],
 "metadata": {
  "kernelspec": {
   "display_name": "Python 3",
   "language": "python",
   "name": "python3"
  },
  "language_info": {
   "codemirror_mode": {
    "name": "ipython",
    "version": 3
   },
   "file_extension": ".py",
   "mimetype": "text/x-python",
   "name": "python",
   "nbconvert_exporter": "python",
   "pygments_lexer": "ipython3",
   "version": "3.9.6"
  }
 },
 "nbformat": 4,
 "nbformat_minor": 2
}
