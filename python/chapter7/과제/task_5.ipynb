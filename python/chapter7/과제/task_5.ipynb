{
 "cells": [
  {
   "cell_type": "markdown",
   "metadata": {},
   "source": [
    "datetime 모듈을 사용하여 현재 날짜와 시간을 출력하는 프로그램을 작성하세요. \n",
    "\n",
    "또한, 사용자로부터 태어난 년도를 입력받아 현재 나이를 계산하여 출력하세요."
   ]
  },
  {
   "cell_type": "code",
   "execution_count": 17,
   "metadata": {},
   "outputs": [
    {
     "name": "stdout",
     "output_type": "stream",
     "text": [
      "현재 시간 : 2024-07-05 17:24:51.431248\n",
      "당신의 나이는 26살 입니다\n"
     ]
    }
   ],
   "source": [
    "import datetime\n",
    "\n",
    "def get_age() -> None:\n",
    "\n",
    "    now = datetime.datetime.now()\n",
    "\n",
    "    born_year = int(input(\"출생 년도를 입력하세요\"))\n",
    "    age = now.year - born_year + 1\n",
    "\n",
    "    print(f\"현재 시간 : {now}\")\n",
    "    print(f\"당신의 나이는 {age}살 입니다\")\n",
    "\n",
    "get_age()\n"
   ]
  }
 ],
 "metadata": {
  "kernelspec": {
   "display_name": "Python 3",
   "language": "python",
   "name": "python3"
  },
  "language_info": {
   "codemirror_mode": {
    "name": "ipython",
    "version": 3
   },
   "file_extension": ".py",
   "mimetype": "text/x-python",
   "name": "python",
   "nbconvert_exporter": "python",
   "pygments_lexer": "ipython3",
   "version": "3.9.10"
  }
 },
 "nbformat": 4,
 "nbformat_minor": 2
}
