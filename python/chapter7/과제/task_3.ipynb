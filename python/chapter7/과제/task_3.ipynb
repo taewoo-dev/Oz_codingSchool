{
 "cells": [
  {
   "cell_type": "markdown",
   "metadata": {},
   "source": [
    "사용자로부터 여러 개의 숫자를 입력받아 리스트에 저장한 후, 사용자가 'done'이라고 입력할 때까지 계속 입력받으세요. \n",
    "\n",
    "- 입력 중 숫자가 아닌 값이 입력되면 ValueError를 처리\n",
    "- 숫자 외 값이 입력된 경우 어떤 값이 잘못 입력되었는지 사용자에게 알려주는 문구 출력<br>\n",
    "  (예: f\"잘못된 값: {변수}. 숫자를 입력해주세요.\")\n",
    "\n"
   ]
  },
  {
   "cell_type": "code",
   "execution_count": 10,
   "metadata": {},
   "outputs": [
    {
     "name": "stdout",
     "output_type": "stream",
     "text": [
      "잘못된 값: 5, 숫자를 입력해주세요.\n",
      "None\n"
     ]
    }
   ],
   "source": [
    "def get_num() -> list[int]:\n",
    "\n",
    "    try:\n",
    "        num_list = []\n",
    "        \n",
    "        while True:\n",
    "            \n",
    "            num = int(input('원하는 숫자를 입력하세요, 충분히 입력하였을 경우 done을 입력해주세요'))\n",
    "\n",
    "            if num == 'done':\n",
    "                break\n",
    "\n",
    "            num_list.append(int(num))\n",
    "        \n",
    "        return list(map(int,num_list))\n",
    "\n",
    "    except ValueError:\n",
    "        print(f\"잘못된 값: {num}, 숫자를 입력해주세요.\")\n",
    "    \n",
    "\n",
    "print(get_num())"
   ]
  },
  {
   "cell_type": "code",
   "execution_count": null,
   "metadata": {},
   "outputs": [],
   "source": []
  }
 ],
 "metadata": {
  "kernelspec": {
   "display_name": "Python 3",
   "language": "python",
   "name": "python3"
  },
  "language_info": {
   "codemirror_mode": {
    "name": "ipython",
    "version": 3
   },
   "file_extension": ".py",
   "mimetype": "text/x-python",
   "name": "python",
   "nbconvert_exporter": "python",
   "pygments_lexer": "ipython3",
   "version": "3.9.10"
  }
 },
 "nbformat": 4,
 "nbformat_minor": 2
}
