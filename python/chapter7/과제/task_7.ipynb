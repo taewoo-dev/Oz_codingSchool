{
 "cells": [
  {
   "cell_type": "markdown",
   "metadata": {},
   "source": [
    "함수 실행 시간을 측정하는 데코레이터 timer_decorator를 작성하세요. \n",
    "\n",
    "임의의 함수가 실행되는 시간을 측정하여 \"함수 실행 시간: x.xx초\" 형태로 출력하세요."
   ]
  },
  {
   "cell_type": "code",
   "execution_count": 14,
   "metadata": {},
   "outputs": [
    {
     "name": "stdout",
     "output_type": "stream",
     "text": [
      "연락처 이름 : 김코딩\n",
      "연락처 이름 : 홍길동\n",
      "연락처 이름 : 나이삭\n",
      "함수 실행시간 : 3.0188초\n"
     ]
    }
   ],
   "source": [
    "import time\n",
    "\n",
    "def timer_decorator(function):\n",
    "    def time_check(*args, **kwargs):\n",
    "        start_time = time.time()\n",
    "        function(*args, **kwargs)\n",
    "        end_time = time.time()\n",
    "        print(f\"함수 실행시간 : {end_time-start_time:.4f}초\")\n",
    "    return time_check\n",
    "\n",
    "@timer_decorator\n",
    "def print_name(name_list : list[str]) -> None:\n",
    "    for name in name_list:\n",
    "        print(f\"연락처 이름 : {name}\")\n",
    "        time.sleep(1)\n",
    "\n",
    "        \n",
    "name_list = [\"김코딩\",\"홍길동\",\"나이삭\"]\n",
    "print_name(name_list)"
   ]
  }
 ],
 "metadata": {
  "kernelspec": {
   "display_name": "Python 3",
   "language": "python",
   "name": "python3"
  },
  "language_info": {
   "codemirror_mode": {
    "name": "ipython",
    "version": 3
   },
   "file_extension": ".py",
   "mimetype": "text/x-python",
   "name": "python",
   "nbconvert_exporter": "python",
   "pygments_lexer": "ipython3",
   "version": "3.9.10"
  }
 },
 "nbformat": 4,
 "nbformat_minor": 2
}
